{
 "cells": [
  {
   "cell_type": "markdown",
   "metadata": {},
   "source": [
    "# Setup"
   ]
  },
  {
   "cell_type": "code",
   "execution_count": 1,
   "metadata": {},
   "outputs": [],
   "source": [
    "import requests\n",
    "import re\n",
    "\n",
    "from bs4 import BeautifulSoup\n",
    "import pandas as pd\n",
    "import numpy as np"
   ]
  },
  {
   "cell_type": "code",
   "execution_count": 2,
   "metadata": {},
   "outputs": [],
   "source": [
    "%matplotlib inline"
   ]
  },
  {
   "cell_type": "markdown",
   "metadata": {},
   "source": [
    "## Scrape IMSLP"
   ]
  },
  {
   "cell_type": "code",
   "execution_count": 3,
   "metadata": {},
   "outputs": [],
   "source": [
    "url = \"http://imslp.org/wiki/List_of_works_by_Ludwig_van_Beethoven\""
   ]
  },
  {
   "cell_type": "code",
   "execution_count": 4,
   "metadata": {},
   "outputs": [],
   "source": [
    "page = requests.get(url)"
   ]
  },
  {
   "cell_type": "code",
   "execution_count": 5,
   "metadata": {},
   "outputs": [],
   "source": [
    "soup = BeautifulSoup(page.text, 'html.parser')"
   ]
  },
  {
   "cell_type": "code",
   "execution_count": 6,
   "metadata": {
    "scrolled": true
   },
   "outputs": [
    {
     "data": {
      "text/plain": [
       "[<title>List of works by Ludwig van Beethoven - IMSLP/Petrucci Music Library: Free Public Domain Sheet Music</title>,\n",
       " <meta charset=\"utf-8\"/>,\n",
       " <meta content=\"MediaWiki 1.18.1\" name=\"generator\"/>,\n",
       " <meta content=\"IE=edge\" http-equiv=\"X-UA-Compatible\"/>,\n",
       " <meta content=\"width=device-width, initial-scale=1, maximum-scale=1\" name=\"viewport\"/>,\n",
       " <link href=\"/apple-touch-icon.png\" rel=\"apple-touch-icon\" sizes=\"180x180\"/>,\n",
       " <link href=\"/android-touch-icon.png\" rel=\"icon\" sizes=\"192x192\"/>,\n",
       " <link href=\"/favicon.ico\" rel=\"shortcut icon\"/>,\n",
       " <link href=\"/opensearch_desc.php\" rel=\"search\" title=\"IMSLP (en)\" type=\"application/opensearchdescription+xml\"/>,\n",
       " <link href=\"//imslp.org/api.php?action=rsd\" rel=\"EditURI\" type=\"application/rsd+xml\"/>,\n",
       " <link href=\"http://creativecommons.org/licenses/by-sa/4.0/\" rel=\"copyright\"/>,\n",
       " <link href=\"/index.php?title=Special:RecentChanges&amp;feed=atom\" rel=\"alternate\" title=\"IMSLP Atom feed\" type=\"application/atom+xml\"/>,\n",
       " <link href=\"/load.php?debug=false&amp;lang=en&amp;modules=ext.wikiForum%7Cmediawiki.legacy.commonPrint%2Cshared%7Cskins.bootstrapmediawiki&amp;only=styles&amp;skin=bootstrap-mediawiki&amp;*\" rel=\"stylesheet\"/>,\n",
       " <link href=\"/skins/bootstrap-mediawiki/font-awesome/css/font-awesome.min.css\" rel=\"stylesheet\"/>,\n",
       " <link href=\"/extensions/Slick/slick.css\" rel=\"stylesheet\"/>,\n",
       " <link href=\"/extensions/Slick/slick-theme.css\" rel=\"stylesheet\"/>,\n",
       " <link href=\"/extensions/common/jscss/flexigrid.css?18.6.10\" rel=\"stylesheet\"/>,\n",
       " <link href=\"/extensions/common/jscss/IMSLPMisc.css?18.6.10\" rel=\"stylesheet\"/>,\n",
       " <link href=\"/skins/bootstrap-mediawiki/submenu/css/bootstrap-submenu.min.css?303\" rel=\"stylesheet\"/>,\n",
       " <meta content=\"\" name=\"ResourceLoaderDynamicStyles\"/>,\n",
       " <link href=\"/load.php?debug=false&amp;lang=en&amp;modules=site&amp;only=styles&amp;skin=bootstrap-mediawiki&amp;*\" rel=\"stylesheet\"/>,\n",
       " <style>a:lang(ar),a:lang(ckb),a:lang(fa),a:lang(kk-arab),a:lang(mzn),a:lang(ps),a:lang(ur){text-decoration:none}a.new,#quickbar a.new{color:#ba0000}\n",
       " \n",
       " /* cache key: imslp_wiki:resourceloader:filter:minify-css:4:c88e2bcd56513749bec09a7e29cb3ffa */</style>,\n",
       " <script src=\"/load.php?debug=false&amp;lang=en&amp;modules=startup&amp;only=scripts&amp;skin=bootstrap-mediawiki&amp;*\"></script>,\n",
       " <script>if(window.mw){\n",
       " \tmw.config.set({\"wgCanonicalNamespace\": \"\", \"wgCanonicalSpecialPageName\": false, \"wgNamespaceNumber\": 0, \"wgPageName\": \"List_of_works_by_Ludwig_van_Beethoven\", \"wgTitle\": \"List of works by Ludwig van Beethoven\", \"wgCurRevisionId\": 2542847, \"wgArticleId\": 11648, \"wgIsArticle\": true, \"wgAction\": \"view\", \"wgUserName\": null, \"wgUserGroups\": [\"*\"], \"wgCategories\": [\"Composer Composition Lists\"], \"wgBreakFrames\": false, \"wgRestrictionEdit\": [], \"wgRestrictionMove\": [], \"wgVectorEnabledModules\": {\"collapsiblenav\": true, \"collapsibletabs\": true, \"editwarning\": false, \"expandablesearch\": false, \"footercleanup\": false, \"sectioneditlinks\": false, \"simplesearch\": true, \"experiments\": true}, \"wgWikiEditorEnabledModules\": {\"toolbar\": true, \"dialogs\": true, \"hidesig\": true, \"templateEditor\": false, \"templates\": false, \"preview\": false, \"previewDialog\": false, \"publish\": false, \"toc\": false}, \"userIsMember\": false});\n",
       " }\n",
       " </script>,\n",
       " <script>if(window.mw){\n",
       " \tmw.loader.load([\"mediawiki.page.startup\"]);\n",
       " }\n",
       " </script>]"
      ]
     },
     "execution_count": 6,
     "metadata": {},
     "output_type": "execute_result"
    }
   ],
   "source": [
    "soup.head()"
   ]
  },
  {
   "cell_type": "markdown",
   "metadata": {},
   "source": [
    "## Get table"
   ]
  },
  {
   "cell_type": "code",
   "execution_count": 7,
   "metadata": {},
   "outputs": [],
   "source": [
    "table = soup.find(\"table\")"
   ]
  },
  {
   "cell_type": "code",
   "execution_count": 8,
   "metadata": {},
   "outputs": [],
   "source": [
    "table_text = []\n",
    "\n",
    "for row in table.findAll(\"tr\"):\n",
    "    cells = row.findAll([\"th\", \"td\"])\n",
    "    # Note: Already checked that all cells have length of 10\n",
    "    cell_contents = [cell.text.replace(\"\\n\", \"\") for cell in cells] # Remove new line from each string in the process\n",
    "    table_text.append(cell_contents)"
   ]
  },
  {
   "cell_type": "code",
   "execution_count": 9,
   "metadata": {},
   "outputs": [],
   "source": [
    "raw_works = pd.DataFrame(table_text[1:], columns = table_text[0])"
   ]
  },
  {
   "cell_type": "markdown",
   "metadata": {},
   "source": [
    "# Explore"
   ]
  },
  {
   "cell_type": "code",
   "execution_count": 10,
   "metadata": {},
   "outputs": [
    {
     "name": "stdout",
     "output_type": "stream",
     "text": [
      "(557, 10)\n"
     ]
    },
    {
     "data": {
      "text/html": [
       "<div>\n",
       "<style scoped>\n",
       "    .dataframe tbody tr th:only-of-type {\n",
       "        vertical-align: middle;\n",
       "    }\n",
       "\n",
       "    .dataframe tbody tr th {\n",
       "        vertical-align: top;\n",
       "    }\n",
       "\n",
       "    .dataframe thead th {\n",
       "        text-align: right;\n",
       "    }\n",
       "</style>\n",
       "<table border=\"1\" class=\"dataframe\">\n",
       "  <thead>\n",
       "    <tr style=\"text-align: right;\">\n",
       "      <th></th>\n",
       "      <th>Op.</th>\n",
       "      <th>WoO</th>\n",
       "      <th>Hess</th>\n",
       "      <th>Biam-onti</th>\n",
       "      <th>Title</th>\n",
       "      <th>Key</th>\n",
       "      <th>Date</th>\n",
       "      <th>Scoring</th>\n",
       "      <th>Genre</th>\n",
       "      <th>Notes</th>\n",
       "    </tr>\n",
       "  </thead>\n",
       "  <tbody>\n",
       "    <tr>\n",
       "      <th>0</th>\n",
       "      <td>001</td>\n",
       "      <td>—</td>\n",
       "      <td>—</td>\n",
       "      <td>062</td>\n",
       "      <td>Piano Trios (3):</td>\n",
       "      <td></td>\n",
       "      <td>1792-94</td>\n",
       "      <td>vn vc pf</td>\n",
       "      <td>Chamber</td>\n",
       "      <td></td>\n",
       "    </tr>\n",
       "    <tr>\n",
       "      <th>1</th>\n",
       "      <td>001/1</td>\n",
       "      <td>—</td>\n",
       "      <td>—</td>\n",
       "      <td>062/1</td>\n",
       "      <td>Piano Trio</td>\n",
       "      <td>E♭ major</td>\n",
       "      <td>1792-93</td>\n",
       "      <td>vn vc pf</td>\n",
       "      <td>Chamber</td>\n",
       "      <td></td>\n",
       "    </tr>\n",
       "    <tr>\n",
       "      <th>2</th>\n",
       "      <td>001/2</td>\n",
       "      <td>—</td>\n",
       "      <td>—</td>\n",
       "      <td>062/2</td>\n",
       "      <td>Piano Trio</td>\n",
       "      <td>G major</td>\n",
       "      <td>1792-94</td>\n",
       "      <td>vn vc pf</td>\n",
       "      <td>Chamber</td>\n",
       "      <td></td>\n",
       "    </tr>\n",
       "    <tr>\n",
       "      <th>3</th>\n",
       "      <td>001/3</td>\n",
       "      <td>—</td>\n",
       "      <td>—</td>\n",
       "      <td>062/3</td>\n",
       "      <td>Piano Trio</td>\n",
       "      <td>C minor</td>\n",
       "      <td>1792-94</td>\n",
       "      <td>vn vc pf</td>\n",
       "      <td>Chamber</td>\n",
       "      <td>arr. for 2vn va vc as Op.104</td>\n",
       "    </tr>\n",
       "    <tr>\n",
       "      <th>4</th>\n",
       "      <td>002</td>\n",
       "      <td>—</td>\n",
       "      <td>—</td>\n",
       "      <td>087</td>\n",
       "      <td>Piano Sonatas (3):</td>\n",
       "      <td></td>\n",
       "      <td>1793-95</td>\n",
       "      <td>pf</td>\n",
       "      <td>Keyboard</td>\n",
       "      <td></td>\n",
       "    </tr>\n",
       "  </tbody>\n",
       "</table>\n",
       "</div>"
      ],
      "text/plain": [
       "      Op. WoO Hess Biam-onti                Title        Key      Date  \\\n",
       "0     001   —    —       062     Piano Trios (3):              1792-94   \n",
       "1   001/1   —    —     062/1           Piano Trio   E♭ major   1792-93   \n",
       "2   001/2   —    —     062/2           Piano Trio    G major   1792-94   \n",
       "3   001/3   —    —     062/3           Piano Trio    C minor   1792-94   \n",
       "4     002   —    —       087   Piano Sonatas (3):              1793-95   \n",
       "\n",
       "     Scoring      Genre                          Notes  \n",
       "0   vn vc pf    Chamber                                 \n",
       "1   vn vc pf    Chamber                                 \n",
       "2   vn vc pf    Chamber                                 \n",
       "3   vn vc pf    Chamber   arr. for 2vn va vc as Op.104  \n",
       "4         pf   Keyboard                                 "
      ]
     },
     "execution_count": 10,
     "metadata": {},
     "output_type": "execute_result"
    }
   ],
   "source": [
    "print(raw_works.shape)\n",
    "raw_works.head()"
   ]
  },
  {
   "cell_type": "code",
   "execution_count": 11,
   "metadata": {},
   "outputs": [
    {
     "data": {
      "text/html": [
       "<div>\n",
       "<style scoped>\n",
       "    .dataframe tbody tr th:only-of-type {\n",
       "        vertical-align: middle;\n",
       "    }\n",
       "\n",
       "    .dataframe tbody tr th {\n",
       "        vertical-align: top;\n",
       "    }\n",
       "\n",
       "    .dataframe thead th {\n",
       "        text-align: right;\n",
       "    }\n",
       "</style>\n",
       "<table border=\"1\" class=\"dataframe\">\n",
       "  <thead>\n",
       "    <tr style=\"text-align: right;\">\n",
       "      <th></th>\n",
       "      <th>Op.</th>\n",
       "      <th>WoO</th>\n",
       "      <th>Hess</th>\n",
       "      <th>Biam-onti</th>\n",
       "      <th>Title</th>\n",
       "      <th>Key</th>\n",
       "      <th>Date</th>\n",
       "      <th>Scoring</th>\n",
       "      <th>Genre</th>\n",
       "      <th>Notes</th>\n",
       "    </tr>\n",
       "  </thead>\n",
       "  <tbody>\n",
       "    <tr>\n",
       "      <th>397</th>\n",
       "      <td>—</td>\n",
       "      <td>099</td>\n",
       "      <td>—</td>\n",
       "      <td>—</td>\n",
       "      <td>Italian Partsongs</td>\n",
       "      <td></td>\n",
       "      <td></td>\n",
       "      <td></td>\n",
       "      <td></td>\n",
       "      <td></td>\n",
       "    </tr>\n",
       "    <tr>\n",
       "      <th>291</th>\n",
       "      <td>—</td>\n",
       "      <td>016</td>\n",
       "      <td>—</td>\n",
       "      <td>—</td>\n",
       "      <td>Ecossaises(12)</td>\n",
       "      <td></td>\n",
       "      <td></td>\n",
       "      <td>orch</td>\n",
       "      <td>Orchestral</td>\n",
       "      <td>spurious</td>\n",
       "    </tr>\n",
       "    <tr>\n",
       "      <th>553</th>\n",
       "      <td>—</td>\n",
       "      <td>—</td>\n",
       "      <td>Anh. 10</td>\n",
       "      <td>—</td>\n",
       "      <td>Andante favori</td>\n",
       "      <td>F major</td>\n",
       "      <td></td>\n",
       "      <td>2vn va vc</td>\n",
       "      <td>Chamber</td>\n",
       "      <td>arr. of WoO 57; Beethoven's authorship uncertain</td>\n",
       "    </tr>\n",
       "    <tr>\n",
       "      <th>544</th>\n",
       "      <td>—</td>\n",
       "      <td>Anh. 14</td>\n",
       "      <td>—</td>\n",
       "      <td>—</td>\n",
       "      <td>Waltzes (6)</td>\n",
       "      <td></td>\n",
       "      <td></td>\n",
       "      <td>pf</td>\n",
       "      <td>Keyboard</td>\n",
       "      <td>spurious; authorship unknown</td>\n",
       "    </tr>\n",
       "    <tr>\n",
       "      <th>308</th>\n",
       "      <td>—</td>\n",
       "      <td>027</td>\n",
       "      <td>—</td>\n",
       "      <td>039</td>\n",
       "      <td>Duets (3)</td>\n",
       "      <td></td>\n",
       "      <td></td>\n",
       "      <td>cl bn</td>\n",
       "      <td>Chamber</td>\n",
       "      <td>Beethoven's authorship doubtful; also arr. fo...</td>\n",
       "    </tr>\n",
       "  </tbody>\n",
       "</table>\n",
       "</div>"
      ],
      "text/plain": [
       "    Op.       WoO      Hess Biam-onti               Title       Key Date  \\\n",
       "397   —       099         —         —   Italian Partsongs                  \n",
       "291   —       016         —         —      Ecossaises(12)                  \n",
       "553   —         —   Anh. 10         —      Andante favori   F major        \n",
       "544   —   Anh. 14         —         —         Waltzes (6)                  \n",
       "308   —       027         —       039           Duets (3)                  \n",
       "\n",
       "        Scoring        Genre  \\\n",
       "397                            \n",
       "291        orch   Orchestral   \n",
       "553   2vn va vc      Chamber   \n",
       "544          pf     Keyboard   \n",
       "308       cl bn      Chamber   \n",
       "\n",
       "                                                 Notes  \n",
       "397                                                     \n",
       "291                                           spurious  \n",
       "553   arr. of WoO 57; Beethoven's authorship uncertain  \n",
       "544                       spurious; authorship unknown  \n",
       "308   Beethoven's authorship doubtful; also arr. fo...  "
      ]
     },
     "execution_count": 11,
     "metadata": {},
     "output_type": "execute_result"
    }
   ],
   "source": [
    "raw_works.sort_values(\"Date\").head()"
   ]
  },
  {
   "cell_type": "markdown",
   "metadata": {},
   "source": [
    "# Clean"
   ]
  },
  {
   "cell_type": "code",
   "execution_count": 12,
   "metadata": {},
   "outputs": [],
   "source": [
    "df = raw_works.copy()"
   ]
  },
  {
   "cell_type": "code",
   "execution_count": 13,
   "metadata": {},
   "outputs": [],
   "source": [
    "df.columns = [column.lower() for column in df.columns]"
   ]
  },
  {
   "cell_type": "code",
   "execution_count": 14,
   "metadata": {},
   "outputs": [
    {
     "data": {
      "text/html": [
       "<div>\n",
       "<style scoped>\n",
       "    .dataframe tbody tr th:only-of-type {\n",
       "        vertical-align: middle;\n",
       "    }\n",
       "\n",
       "    .dataframe tbody tr th {\n",
       "        vertical-align: top;\n",
       "    }\n",
       "\n",
       "    .dataframe thead th {\n",
       "        text-align: right;\n",
       "    }\n",
       "</style>\n",
       "<table border=\"1\" class=\"dataframe\">\n",
       "  <thead>\n",
       "    <tr style=\"text-align: right;\">\n",
       "      <th></th>\n",
       "      <th>op.</th>\n",
       "      <th>woo</th>\n",
       "      <th>hess</th>\n",
       "      <th>biam-onti</th>\n",
       "      <th>title</th>\n",
       "      <th>key</th>\n",
       "      <th>date</th>\n",
       "      <th>scoring</th>\n",
       "      <th>genre</th>\n",
       "      <th>notes</th>\n",
       "    </tr>\n",
       "  </thead>\n",
       "  <tbody>\n",
       "    <tr>\n",
       "      <th>0</th>\n",
       "      <td>001</td>\n",
       "      <td>—</td>\n",
       "      <td>—</td>\n",
       "      <td>062</td>\n",
       "      <td>Piano Trios (3):</td>\n",
       "      <td></td>\n",
       "      <td>1792-94</td>\n",
       "      <td>vn vc pf</td>\n",
       "      <td>Chamber</td>\n",
       "      <td></td>\n",
       "    </tr>\n",
       "    <tr>\n",
       "      <th>1</th>\n",
       "      <td>001/1</td>\n",
       "      <td>—</td>\n",
       "      <td>—</td>\n",
       "      <td>062/1</td>\n",
       "      <td>Piano Trio</td>\n",
       "      <td>E♭ major</td>\n",
       "      <td>1792-93</td>\n",
       "      <td>vn vc pf</td>\n",
       "      <td>Chamber</td>\n",
       "      <td></td>\n",
       "    </tr>\n",
       "    <tr>\n",
       "      <th>2</th>\n",
       "      <td>001/2</td>\n",
       "      <td>—</td>\n",
       "      <td>—</td>\n",
       "      <td>062/2</td>\n",
       "      <td>Piano Trio</td>\n",
       "      <td>G major</td>\n",
       "      <td>1792-94</td>\n",
       "      <td>vn vc pf</td>\n",
       "      <td>Chamber</td>\n",
       "      <td></td>\n",
       "    </tr>\n",
       "    <tr>\n",
       "      <th>3</th>\n",
       "      <td>001/3</td>\n",
       "      <td>—</td>\n",
       "      <td>—</td>\n",
       "      <td>062/3</td>\n",
       "      <td>Piano Trio</td>\n",
       "      <td>C minor</td>\n",
       "      <td>1792-94</td>\n",
       "      <td>vn vc pf</td>\n",
       "      <td>Chamber</td>\n",
       "      <td>arr. for 2vn va vc as Op.104</td>\n",
       "    </tr>\n",
       "    <tr>\n",
       "      <th>4</th>\n",
       "      <td>002</td>\n",
       "      <td>—</td>\n",
       "      <td>—</td>\n",
       "      <td>087</td>\n",
       "      <td>Piano Sonatas (3):</td>\n",
       "      <td></td>\n",
       "      <td>1793-95</td>\n",
       "      <td>pf</td>\n",
       "      <td>Keyboard</td>\n",
       "      <td></td>\n",
       "    </tr>\n",
       "  </tbody>\n",
       "</table>\n",
       "</div>"
      ],
      "text/plain": [
       "      op. woo hess biam-onti                title        key      date  \\\n",
       "0     001   —    —       062     Piano Trios (3):              1792-94   \n",
       "1   001/1   —    —     062/1           Piano Trio   E♭ major   1792-93   \n",
       "2   001/2   —    —     062/2           Piano Trio    G major   1792-94   \n",
       "3   001/3   —    —     062/3           Piano Trio    C minor   1792-94   \n",
       "4     002   —    —       087   Piano Sonatas (3):              1793-95   \n",
       "\n",
       "     scoring      genre                          notes  \n",
       "0   vn vc pf    Chamber                                 \n",
       "1   vn vc pf    Chamber                                 \n",
       "2   vn vc pf    Chamber                                 \n",
       "3   vn vc pf    Chamber   arr. for 2vn va vc as Op.104  \n",
       "4         pf   Keyboard                                 "
      ]
     },
     "execution_count": 14,
     "metadata": {},
     "output_type": "execute_result"
    }
   ],
   "source": [
    "df.head()"
   ]
  },
  {
   "cell_type": "code",
   "execution_count": 15,
   "metadata": {
    "scrolled": true
   },
   "outputs": [
    {
     "data": {
      "text/plain": [
       "10"
      ]
     },
     "execution_count": 15,
     "metadata": {},
     "output_type": "execute_result"
    }
   ],
   "source": [
    "len(df[df[\"date\"] == \"\"])"
   ]
  },
  {
   "cell_type": "code",
   "execution_count": 16,
   "metadata": {},
   "outputs": [],
   "source": [
    "# Remove works without dates (unable to use in visualization)\n",
    "df = df[df[\"date\"] != \"\"]"
   ]
  },
  {
   "cell_type": "markdown",
   "metadata": {},
   "source": [
    "Maybe the easiest way to get rid of these header-subheader type rows is to remove rows without keys. Plus, we can't really use a work if it happens not to have a key either...\n",
    "\n",
    "But to know whether we're removing things because it's a heading or it's a piece that happens not to have a listed key, maybe regex ([0-9]) or something..."
   ]
  },
  {
   "cell_type": "markdown",
   "metadata": {},
   "source": [
    "## Key"
   ]
  },
  {
   "cell_type": "code",
   "execution_count": 17,
   "metadata": {},
   "outputs": [
    {
     "data": {
      "text/plain": [
       "146"
      ]
     },
     "execution_count": 17,
     "metadata": {},
     "output_type": "execute_result"
    }
   ],
   "source": [
    "len(df[df[\"key\"] == \"\"])"
   ]
  },
  {
   "cell_type": "markdown",
   "metadata": {},
   "source": [
    "### Check out rows without keys"
   ]
  },
  {
   "cell_type": "code",
   "execution_count": 18,
   "metadata": {},
   "outputs": [],
   "source": [
    "no_key = df[df[\"key\"] == \"\"]"
   ]
  },
  {
   "cell_type": "code",
   "execution_count": 19,
   "metadata": {},
   "outputs": [
    {
     "data": {
      "text/html": [
       "<div>\n",
       "<style scoped>\n",
       "    .dataframe tbody tr th:only-of-type {\n",
       "        vertical-align: middle;\n",
       "    }\n",
       "\n",
       "    .dataframe tbody tr th {\n",
       "        vertical-align: top;\n",
       "    }\n",
       "\n",
       "    .dataframe thead th {\n",
       "        text-align: right;\n",
       "    }\n",
       "</style>\n",
       "<table border=\"1\" class=\"dataframe\">\n",
       "  <thead>\n",
       "    <tr style=\"text-align: right;\">\n",
       "      <th></th>\n",
       "      <th>op.</th>\n",
       "      <th>woo</th>\n",
       "      <th>hess</th>\n",
       "      <th>biam-onti</th>\n",
       "      <th>title</th>\n",
       "      <th>key</th>\n",
       "      <th>date</th>\n",
       "      <th>scoring</th>\n",
       "      <th>genre</th>\n",
       "      <th>notes</th>\n",
       "    </tr>\n",
       "  </thead>\n",
       "  <tbody>\n",
       "  </tbody>\n",
       "</table>\n",
       "</div>"
      ],
      "text/plain": [
       "Empty DataFrame\n",
       "Columns: [op., woo, hess, biam-onti, title, key, date, scoring, genre, notes]\n",
       "Index: []"
      ]
     },
     "execution_count": 19,
     "metadata": {},
     "output_type": "execute_result"
    }
   ],
   "source": [
    "no_key[pd.isnull(no_key[\"title\"])]"
   ]
  },
  {
   "cell_type": "code",
   "execution_count": 20,
   "metadata": {
    "scrolled": true
   },
   "outputs": [
    {
     "data": {
      "text/plain": [
       "41"
      ]
     },
     "execution_count": 20,
     "metadata": {},
     "output_type": "execute_result"
    }
   ],
   "source": [
    "len(no_key[no_key[\"title\"].apply(lambda x: bool(re.search(r\"\\([0-9]\\)\", x)))])"
   ]
  },
  {
   "cell_type": "code",
   "execution_count": 21,
   "metadata": {},
   "outputs": [
    {
     "data": {
      "text/html": [
       "<div>\n",
       "<style scoped>\n",
       "    .dataframe tbody tr th:only-of-type {\n",
       "        vertical-align: middle;\n",
       "    }\n",
       "\n",
       "    .dataframe tbody tr th {\n",
       "        vertical-align: top;\n",
       "    }\n",
       "\n",
       "    .dataframe thead th {\n",
       "        text-align: right;\n",
       "    }\n",
       "</style>\n",
       "<table border=\"1\" class=\"dataframe\">\n",
       "  <thead>\n",
       "    <tr style=\"text-align: right;\">\n",
       "      <th></th>\n",
       "      <th>op.</th>\n",
       "      <th>woo</th>\n",
       "      <th>hess</th>\n",
       "      <th>biam-onti</th>\n",
       "      <th>title</th>\n",
       "      <th>key</th>\n",
       "      <th>date</th>\n",
       "      <th>scoring</th>\n",
       "      <th>genre</th>\n",
       "      <th>notes</th>\n",
       "    </tr>\n",
       "  </thead>\n",
       "  <tbody>\n",
       "    <tr>\n",
       "      <th>65</th>\n",
       "      <td>032</td>\n",
       "      <td>—</td>\n",
       "      <td>—</td>\n",
       "      <td>421</td>\n",
       "      <td>An die Hoffnung (\"Die du so gern in heilgen N...</td>\n",
       "      <td></td>\n",
       "      <td>1804-05</td>\n",
       "      <td>v pf</td>\n",
       "      <td>Vocal</td>\n",
       "      <td>1st setting; see also Op.94</td>\n",
       "    </tr>\n",
       "    <tr>\n",
       "      <th>77</th>\n",
       "      <td>043</td>\n",
       "      <td>—</td>\n",
       "      <td>—</td>\n",
       "      <td>288</td>\n",
       "      <td>Die Geschöpfe des Prometheus (The Creatures o...</td>\n",
       "      <td></td>\n",
       "      <td>1800-01</td>\n",
       "      <td>orch</td>\n",
       "      <td>Stage</td>\n",
       "      <td></td>\n",
       "    </tr>\n",
       "    <tr>\n",
       "      <th>120</th>\n",
       "      <td>065</td>\n",
       "      <td>—</td>\n",
       "      <td>—</td>\n",
       "      <td>116</td>\n",
       "      <td>Ah! Perfido</td>\n",
       "      <td></td>\n",
       "      <td>1796</td>\n",
       "      <td>sop orch</td>\n",
       "      <td>Vocal</td>\n",
       "      <td></td>\n",
       "    </tr>\n",
       "    <tr>\n",
       "      <th>129</th>\n",
       "      <td>072</td>\n",
       "      <td>—</td>\n",
       "      <td>109</td>\n",
       "      <td>423</td>\n",
       "      <td>Fidelio (Leonore, oder Der Triumph der ehelic...</td>\n",
       "      <td></td>\n",
       "      <td>1804-05</td>\n",
       "      <td>vv ch orch</td>\n",
       "      <td>Stage</td>\n",
       "      <td>1st version; includes Op. 72a</td>\n",
       "    </tr>\n",
       "    <tr>\n",
       "      <th>130</th>\n",
       "      <td>072</td>\n",
       "      <td>—</td>\n",
       "      <td>110</td>\n",
       "      <td>427</td>\n",
       "      <td>Fidelio (Leonore, oder Der Triumph der ehelic...</td>\n",
       "      <td></td>\n",
       "      <td>1805-06</td>\n",
       "      <td>vv ch orch</td>\n",
       "      <td>Stage</td>\n",
       "      <td>2nd version; includes Op. 72b (and WoO 2/2?)</td>\n",
       "    </tr>\n",
       "  </tbody>\n",
       "</table>\n",
       "</div>"
      ],
      "text/plain": [
       "      op. woo  hess biam-onti  \\\n",
       "65    032   —     —       421   \n",
       "77    043   —     —       288   \n",
       "120   065   —     —       116   \n",
       "129   072   —   109       423   \n",
       "130   072   —   110       427   \n",
       "\n",
       "                                                 title key      date  \\\n",
       "65    An die Hoffnung (\"Die du so gern in heilgen N...       1804-05   \n",
       "77    Die Geschöpfe des Prometheus (The Creatures o...       1800-01   \n",
       "120                                        Ah! Perfido          1796   \n",
       "129   Fidelio (Leonore, oder Der Triumph der ehelic...       1804-05   \n",
       "130   Fidelio (Leonore, oder Der Triumph der ehelic...       1805-06   \n",
       "\n",
       "         scoring   genre                                          notes  \n",
       "65          v pf   Vocal                    1st setting; see also Op.94  \n",
       "77          orch   Stage                                                 \n",
       "120     sop orch   Vocal                                                 \n",
       "129   vv ch orch   Stage                  1st version; includes Op. 72a  \n",
       "130   vv ch orch   Stage   2nd version; includes Op. 72b (and WoO 2/2?)  "
      ]
     },
     "execution_count": 21,
     "metadata": {},
     "output_type": "execute_result"
    }
   ],
   "source": [
    "no_key[~no_key[\"title\"].apply(lambda x: bool(re.search(r\"\\([0-9]\\)\", x)))].head()"
   ]
  },
  {
   "cell_type": "markdown",
   "metadata": {},
   "source": [
    "Maybe next steps include going into each piece and getting the time or number of measures in a specific key (not the most practical considering rather stable formulas for certain musical forms, such as symphonies)"
   ]
  },
  {
   "cell_type": "markdown",
   "metadata": {},
   "source": [
    "### Back to cleaning"
   ]
  },
  {
   "cell_type": "code",
   "execution_count": 22,
   "metadata": {},
   "outputs": [],
   "source": [
    "# Anyway, let's go ahead and take out those without keys for our first pass trialing\n",
    "df = df[df[\"key\"] != \"\"]"
   ]
  },
  {
   "cell_type": "code",
   "execution_count": 23,
   "metadata": {},
   "outputs": [
    {
     "data": {
      "text/plain": [
       "401"
      ]
     },
     "execution_count": 23,
     "metadata": {},
     "output_type": "execute_result"
    }
   ],
   "source": [
    "len(df)"
   ]
  },
  {
   "cell_type": "code",
   "execution_count": 24,
   "metadata": {},
   "outputs": [],
   "source": [
    "df[\"key\"] = df[\"key\"].str.replace(\"-flat\", \"♭\")"
   ]
  },
  {
   "cell_type": "code",
   "execution_count": 25,
   "metadata": {},
   "outputs": [],
   "source": [
    "df[\"key\"] = df[\"key\"].str.strip()"
   ]
  },
  {
   "cell_type": "markdown",
   "metadata": {},
   "source": [
    "### Key distribution"
   ]
  },
  {
   "cell_type": "code",
   "execution_count": 26,
   "metadata": {},
   "outputs": [
    {
     "name": "stdout",
     "output_type": "stream",
     "text": [
      "22\n"
     ]
    },
    {
     "data": {
      "text/plain": [
       "array(['E♭ major', 'G major', 'C minor', 'F minor', 'A major', 'C major',\n",
       "       'F major', 'G minor', 'D major', 'B♭ major', 'E major', 'A minor',\n",
       "       'A♭ major', 'C♯ minor', 'D minor', 'F♯ minor', 'E minor',\n",
       "       'F♯ major', 'B♭ minor', 'C major-C minor', 'B minor',\n",
       "       'A♭ major-D major'], dtype=object)"
      ]
     },
     "execution_count": 26,
     "metadata": {},
     "output_type": "execute_result"
    }
   ],
   "source": [
    "print(df[\"key\"].nunique())\n",
    "df[\"key\"].unique()"
   ]
  },
  {
   "cell_type": "code",
   "execution_count": 27,
   "metadata": {},
   "outputs": [
    {
     "data": {
      "text/plain": [
       "['A major',\n",
       " 'A minor',\n",
       " 'A♭ major',\n",
       " 'A♭ major-D major',\n",
       " 'B minor',\n",
       " 'B♭ major',\n",
       " 'B♭ minor',\n",
       " 'C major',\n",
       " 'C major-C minor',\n",
       " 'C minor',\n",
       " 'C♯ minor',\n",
       " 'D major',\n",
       " 'D minor',\n",
       " 'E major',\n",
       " 'E minor',\n",
       " 'E♭ major',\n",
       " 'F major',\n",
       " 'F minor',\n",
       " 'F♯ major',\n",
       " 'F♯ minor',\n",
       " 'G major',\n",
       " 'G minor']"
      ]
     },
     "execution_count": 27,
     "metadata": {},
     "output_type": "execute_result"
    }
   ],
   "source": [
    "sorted(df[\"key\"].unique())"
   ]
  },
  {
   "cell_type": "code",
   "execution_count": 28,
   "metadata": {},
   "outputs": [
    {
     "data": {
      "text/html": [
       "<div>\n",
       "<style scoped>\n",
       "    .dataframe tbody tr th:only-of-type {\n",
       "        vertical-align: middle;\n",
       "    }\n",
       "\n",
       "    .dataframe tbody tr th {\n",
       "        vertical-align: top;\n",
       "    }\n",
       "\n",
       "    .dataframe thead th {\n",
       "        text-align: right;\n",
       "    }\n",
       "</style>\n",
       "<table border=\"1\" class=\"dataframe\">\n",
       "  <thead>\n",
       "    <tr style=\"text-align: right;\">\n",
       "      <th></th>\n",
       "      <th>op.</th>\n",
       "      <th>woo</th>\n",
       "      <th>hess</th>\n",
       "      <th>biam-onti</th>\n",
       "      <th>title</th>\n",
       "      <th>key</th>\n",
       "      <th>date</th>\n",
       "      <th>scoring</th>\n",
       "      <th>genre</th>\n",
       "      <th>notes</th>\n",
       "    </tr>\n",
       "  </thead>\n",
       "  <tbody>\n",
       "    <tr>\n",
       "      <th>170</th>\n",
       "      <td>094</td>\n",
       "      <td>—</td>\n",
       "      <td>—</td>\n",
       "      <td>611</td>\n",
       "      <td>An die Hoffnung (\"Ob ein Gott sei?\")</td>\n",
       "      <td>B♭ minor</td>\n",
       "      <td>1813-15</td>\n",
       "      <td>v pf</td>\n",
       "      <td>Vocal</td>\n",
       "      <td>2nd setting; see Op.32</td>\n",
       "    </tr>\n",
       "  </tbody>\n",
       "</table>\n",
       "</div>"
      ],
      "text/plain": [
       "      op. woo hess biam-onti                                  title       key  \\\n",
       "170   094   —    —       611   An die Hoffnung (\"Ob ein Gott sei?\")  B♭ minor   \n",
       "\n",
       "         date scoring   genre                    notes  \n",
       "170   1813-15    v pf   Vocal   2nd setting; see Op.32  "
      ]
     },
     "execution_count": 28,
     "metadata": {},
     "output_type": "execute_result"
    }
   ],
   "source": [
    "len(df[df[\"key\"] == \"F♯ major\"]) # 1\n",
    "len(df[df[\"key\"] == \"B♭ minor\"]) # 1\n",
    "\n",
    "df[df[\"key\"] == \"B♭ minor\"]"
   ]
  },
  {
   "cell_type": "code",
   "execution_count": 29,
   "metadata": {},
   "outputs": [],
   "source": [
    "df.loc[df[\"key\"] == \"B♭ minor\", \"key\"] = \"E♭ major\""
   ]
  },
  {
   "cell_type": "code",
   "execution_count": 30,
   "metadata": {},
   "outputs": [
    {
     "data": {
      "text/html": [
       "<div>\n",
       "<style scoped>\n",
       "    .dataframe tbody tr th:only-of-type {\n",
       "        vertical-align: middle;\n",
       "    }\n",
       "\n",
       "    .dataframe tbody tr th {\n",
       "        vertical-align: top;\n",
       "    }\n",
       "\n",
       "    .dataframe thead th {\n",
       "        text-align: right;\n",
       "    }\n",
       "</style>\n",
       "<table border=\"1\" class=\"dataframe\">\n",
       "  <thead>\n",
       "    <tr style=\"text-align: right;\">\n",
       "      <th></th>\n",
       "      <th>op.</th>\n",
       "      <th>woo</th>\n",
       "      <th>hess</th>\n",
       "      <th>biam-onti</th>\n",
       "      <th>title</th>\n",
       "      <th>key</th>\n",
       "      <th>date</th>\n",
       "      <th>scoring</th>\n",
       "      <th>genre</th>\n",
       "      <th>notes</th>\n",
       "    </tr>\n",
       "  </thead>\n",
       "  <tbody>\n",
       "  </tbody>\n",
       "</table>\n",
       "</div>"
      ],
      "text/plain": [
       "Empty DataFrame\n",
       "Columns: [op., woo, hess, biam-onti, title, key, date, scoring, genre, notes]\n",
       "Index: []"
      ]
     },
     "execution_count": 30,
     "metadata": {},
     "output_type": "execute_result"
    }
   ],
   "source": [
    "# Check\n",
    "df[df[\"key\"] == \"B♭ minor\"]"
   ]
  },
  {
   "cell_type": "markdown",
   "metadata": {},
   "source": [
    "### Mode"
   ]
  },
  {
   "cell_type": "code",
   "execution_count": 31,
   "metadata": {},
   "outputs": [],
   "source": [
    "def decide_key(key):\n",
    "    if \"major\" in key:\n",
    "        if \"minor\" not in key:\n",
    "            return \"major\"\n",
    "        else:\n",
    "            return \"other\"\n",
    "    elif \"minor\" in key:\n",
    "        if \"major\" not in key:\n",
    "            return \"minor\"\n",
    "        else:\n",
    "            return \"other\"\n",
    "    else:\n",
    "        return None"
   ]
  },
  {
   "cell_type": "code",
   "execution_count": 32,
   "metadata": {},
   "outputs": [],
   "source": [
    "df[\"mode\"] = df[\"key\"].apply(decide_key)"
   ]
  },
  {
   "cell_type": "markdown",
   "metadata": {},
   "source": [
    "## Date"
   ]
  },
  {
   "cell_type": "code",
   "execution_count": 33,
   "metadata": {},
   "outputs": [
    {
     "data": {
      "text/plain": [
       "(' -', ' —')"
      ]
     },
     "execution_count": 33,
     "metadata": {},
     "output_type": "execute_result"
    }
   ],
   "source": [
    "df[\"date\"].min(), df[\"date\"].max()"
   ]
  },
  {
   "cell_type": "markdown",
   "metadata": {},
   "source": [
    "Well..."
   ]
  },
  {
   "cell_type": "code",
   "execution_count": 34,
   "metadata": {},
   "outputs": [
    {
     "data": {
      "text/html": [
       "<div>\n",
       "<style scoped>\n",
       "    .dataframe tbody tr th:only-of-type {\n",
       "        vertical-align: middle;\n",
       "    }\n",
       "\n",
       "    .dataframe tbody tr th {\n",
       "        vertical-align: top;\n",
       "    }\n",
       "\n",
       "    .dataframe thead th {\n",
       "        text-align: right;\n",
       "    }\n",
       "</style>\n",
       "<table border=\"1\" class=\"dataframe\">\n",
       "  <thead>\n",
       "    <tr style=\"text-align: right;\">\n",
       "      <th></th>\n",
       "      <th>op.</th>\n",
       "      <th>woo</th>\n",
       "      <th>hess</th>\n",
       "      <th>biam-onti</th>\n",
       "      <th>title</th>\n",
       "      <th>key</th>\n",
       "      <th>date</th>\n",
       "      <th>scoring</th>\n",
       "      <th>genre</th>\n",
       "      <th>notes</th>\n",
       "      <th>mode</th>\n",
       "    </tr>\n",
       "  </thead>\n",
       "  <tbody>\n",
       "    <tr>\n",
       "      <th>556</th>\n",
       "      <td>—</td>\n",
       "      <td>—</td>\n",
       "      <td>—</td>\n",
       "      <td>—</td>\n",
       "      <td>Hymne an die Nacht</td>\n",
       "      <td>C major</td>\n",
       "      <td>-</td>\n",
       "      <td>ch pf</td>\n",
       "      <td>Vocal</td>\n",
       "      <td>setting of theme from Op.57; Beethoven's auth...</td>\n",
       "      <td>major</td>\n",
       "    </tr>\n",
       "  </tbody>\n",
       "</table>\n",
       "</div>"
      ],
      "text/plain": [
       "    op. woo hess biam-onti                title      key date scoring   genre  \\\n",
       "556   —   —    —         —   Hymne an die Nacht  C major    -   ch pf   Vocal   \n",
       "\n",
       "                                                 notes   mode  \n",
       "556   setting of theme from Op.57; Beethoven's auth...  major  "
      ]
     },
     "execution_count": 34,
     "metadata": {},
     "output_type": "execute_result"
    }
   ],
   "source": [
    "# Let's say we need to have date values with numbers\n",
    "df[df[\"date\"] == \" -\"]"
   ]
  },
  {
   "cell_type": "code",
   "execution_count": 35,
   "metadata": {},
   "outputs": [],
   "source": [
    "# Strip this whitespace...?\n",
    "df[\"date\"] = df[\"date\"].str.strip()"
   ]
  },
  {
   "cell_type": "code",
   "execution_count": 36,
   "metadata": {},
   "outputs": [
    {
     "data": {
      "text/html": [
       "<div>\n",
       "<style scoped>\n",
       "    .dataframe tbody tr th:only-of-type {\n",
       "        vertical-align: middle;\n",
       "    }\n",
       "\n",
       "    .dataframe tbody tr th {\n",
       "        vertical-align: top;\n",
       "    }\n",
       "\n",
       "    .dataframe thead th {\n",
       "        text-align: right;\n",
       "    }\n",
       "</style>\n",
       "<table border=\"1\" class=\"dataframe\">\n",
       "  <thead>\n",
       "    <tr style=\"text-align: right;\">\n",
       "      <th></th>\n",
       "      <th>op.</th>\n",
       "      <th>woo</th>\n",
       "      <th>hess</th>\n",
       "      <th>biam-onti</th>\n",
       "      <th>title</th>\n",
       "      <th>key</th>\n",
       "      <th>date</th>\n",
       "      <th>scoring</th>\n",
       "      <th>genre</th>\n",
       "      <th>notes</th>\n",
       "      <th>mode</th>\n",
       "    </tr>\n",
       "  </thead>\n",
       "  <tbody>\n",
       "    <tr>\n",
       "      <th>118</th>\n",
       "      <td>063</td>\n",
       "      <td>—</td>\n",
       "      <td>Anh.14</td>\n",
       "      <td>II/65</td>\n",
       "      <td>Piano Trio</td>\n",
       "      <td>E♭ major</td>\n",
       "      <td>—</td>\n",
       "      <td>vn va vc</td>\n",
       "      <td>Chamber</td>\n",
       "      <td>arr. of Op.4; Beethoven's authorship doubtful</td>\n",
       "      <td>major</td>\n",
       "    </tr>\n",
       "    <tr>\n",
       "      <th>556</th>\n",
       "      <td>—</td>\n",
       "      <td>—</td>\n",
       "      <td>—</td>\n",
       "      <td>—</td>\n",
       "      <td>Hymne an die Nacht</td>\n",
       "      <td>C major</td>\n",
       "      <td>-</td>\n",
       "      <td>ch pf</td>\n",
       "      <td>Vocal</td>\n",
       "      <td>setting of theme from Op.57; Beethoven's auth...</td>\n",
       "      <td>major</td>\n",
       "    </tr>\n",
       "  </tbody>\n",
       "</table>\n",
       "</div>"
      ],
      "text/plain": [
       "      op. woo     hess biam-onti                title       key date  \\\n",
       "118   063   —   Anh.14     II/65           Piano Trio  E♭ major    —   \n",
       "556     —   —        —         —   Hymne an die Nacht   C major    -   \n",
       "\n",
       "       scoring     genre                                              notes  \\\n",
       "118   vn va vc   Chamber      arr. of Op.4; Beethoven's authorship doubtful   \n",
       "556      ch pf     Vocal   setting of theme from Op.57; Beethoven's auth...   \n",
       "\n",
       "      mode  \n",
       "118  major  \n",
       "556  major  "
      ]
     },
     "execution_count": 36,
     "metadata": {},
     "output_type": "execute_result"
    }
   ],
   "source": [
    "df[~df[\"date\"].apply(lambda x: bool(re.search(\"[0-9]\", x)))]"
   ]
  },
  {
   "cell_type": "code",
   "execution_count": 37,
   "metadata": {},
   "outputs": [],
   "source": [
    "# Yep, we can take those out\n",
    "df = df[df[\"date\"].apply(lambda x: bool(re.search(\"[0-9]\", x)))]"
   ]
  },
  {
   "cell_type": "code",
   "execution_count": 38,
   "metadata": {},
   "outputs": [
    {
     "data": {
      "text/plain": [
       "('1782', '1826')"
      ]
     },
     "execution_count": 38,
     "metadata": {},
     "output_type": "execute_result"
    }
   ],
   "source": [
    "df[\"date\"].min(), df[\"date\"].max()"
   ]
  },
  {
   "cell_type": "code",
   "execution_count": 39,
   "metadata": {},
   "outputs": [
    {
     "data": {
      "text/plain": [
       "399"
      ]
     },
     "execution_count": 39,
     "metadata": {},
     "output_type": "execute_result"
    }
   ],
   "source": [
    "len(df)"
   ]
  },
  {
   "cell_type": "code",
   "execution_count": 40,
   "metadata": {},
   "outputs": [
    {
     "data": {
      "text/plain": [
       "167"
      ]
     },
     "execution_count": 40,
     "metadata": {},
     "output_type": "execute_result"
    }
   ],
   "source": [
    "# So how many of these are date ranges...\n",
    "len(df[df[\"date\"].str.contains(\"-\")])"
   ]
  },
  {
   "cell_type": "markdown",
   "metadata": {},
   "source": [
    "Dang, we need to find ways to decide... for now, let's keep a column for min and max dates"
   ]
  },
  {
   "cell_type": "code",
   "execution_count": 41,
   "metadata": {},
   "outputs": [],
   "source": [
    "df[\"min_date\"] = df[\"date\"].apply(lambda x: x.split(\"-\")[0] if \"-\" in x else x)\n",
    "# Need to add the first two characters\n",
    "df[\"max_date\"] = df[\"date\"].apply(lambda x: x[0:2] + x.split(\"-\")[1] if \"-\" in x else x)\n",
    "# Need to fix of turn of century exception\n",
    "df[\"max_date\"] = df[\"max_date\"].apply(lambda x: x[2:] if len(x) == 6 else x) # "
   ]
  },
  {
   "cell_type": "code",
   "execution_count": 42,
   "metadata": {},
   "outputs": [
    {
     "data": {
      "text/html": [
       "<div>\n",
       "<style scoped>\n",
       "    .dataframe tbody tr th:only-of-type {\n",
       "        vertical-align: middle;\n",
       "    }\n",
       "\n",
       "    .dataframe tbody tr th {\n",
       "        vertical-align: top;\n",
       "    }\n",
       "\n",
       "    .dataframe thead th {\n",
       "        text-align: right;\n",
       "    }\n",
       "</style>\n",
       "<table border=\"1\" class=\"dataframe\">\n",
       "  <thead>\n",
       "    <tr style=\"text-align: right;\">\n",
       "      <th></th>\n",
       "      <th>op.</th>\n",
       "      <th>woo</th>\n",
       "      <th>hess</th>\n",
       "      <th>biam-onti</th>\n",
       "      <th>title</th>\n",
       "      <th>key</th>\n",
       "      <th>date</th>\n",
       "      <th>scoring</th>\n",
       "      <th>genre</th>\n",
       "      <th>notes</th>\n",
       "      <th>mode</th>\n",
       "      <th>min_date</th>\n",
       "      <th>max_date</th>\n",
       "    </tr>\n",
       "  </thead>\n",
       "  <tbody>\n",
       "    <tr>\n",
       "      <th>1</th>\n",
       "      <td>001/1</td>\n",
       "      <td>—</td>\n",
       "      <td>—</td>\n",
       "      <td>062/1</td>\n",
       "      <td>Piano Trio</td>\n",
       "      <td>E♭ major</td>\n",
       "      <td>1792-93</td>\n",
       "      <td>vn vc pf</td>\n",
       "      <td>Chamber</td>\n",
       "      <td></td>\n",
       "      <td>major</td>\n",
       "      <td>1792</td>\n",
       "      <td>1793</td>\n",
       "    </tr>\n",
       "    <tr>\n",
       "      <th>2</th>\n",
       "      <td>001/2</td>\n",
       "      <td>—</td>\n",
       "      <td>—</td>\n",
       "      <td>062/2</td>\n",
       "      <td>Piano Trio</td>\n",
       "      <td>G major</td>\n",
       "      <td>1792-94</td>\n",
       "      <td>vn vc pf</td>\n",
       "      <td>Chamber</td>\n",
       "      <td></td>\n",
       "      <td>major</td>\n",
       "      <td>1792</td>\n",
       "      <td>1794</td>\n",
       "    </tr>\n",
       "    <tr>\n",
       "      <th>3</th>\n",
       "      <td>001/3</td>\n",
       "      <td>—</td>\n",
       "      <td>—</td>\n",
       "      <td>062/3</td>\n",
       "      <td>Piano Trio</td>\n",
       "      <td>C minor</td>\n",
       "      <td>1792-94</td>\n",
       "      <td>vn vc pf</td>\n",
       "      <td>Chamber</td>\n",
       "      <td>arr. for 2vn va vc as Op.104</td>\n",
       "      <td>minor</td>\n",
       "      <td>1792</td>\n",
       "      <td>1794</td>\n",
       "    </tr>\n",
       "    <tr>\n",
       "      <th>5</th>\n",
       "      <td>002/1</td>\n",
       "      <td>—</td>\n",
       "      <td>—</td>\n",
       "      <td>087/1</td>\n",
       "      <td>Piano Sonata No.1</td>\n",
       "      <td>F minor</td>\n",
       "      <td>1793-95</td>\n",
       "      <td>pf</td>\n",
       "      <td>Keyboard</td>\n",
       "      <td></td>\n",
       "      <td>minor</td>\n",
       "      <td>1793</td>\n",
       "      <td>1795</td>\n",
       "    </tr>\n",
       "    <tr>\n",
       "      <th>6</th>\n",
       "      <td>002/2</td>\n",
       "      <td>—</td>\n",
       "      <td>—</td>\n",
       "      <td>087/2</td>\n",
       "      <td>Piano Sonata No.2</td>\n",
       "      <td>A major</td>\n",
       "      <td>1794-95</td>\n",
       "      <td>pf</td>\n",
       "      <td>Keyboard</td>\n",
       "      <td></td>\n",
       "      <td>major</td>\n",
       "      <td>1794</td>\n",
       "      <td>1795</td>\n",
       "    </tr>\n",
       "  </tbody>\n",
       "</table>\n",
       "</div>"
      ],
      "text/plain": [
       "      op. woo hess biam-onti               title       key     date  \\\n",
       "1   001/1   —    —     062/1          Piano Trio  E♭ major  1792-93   \n",
       "2   001/2   —    —     062/2          Piano Trio   G major  1792-94   \n",
       "3   001/3   —    —     062/3          Piano Trio   C minor  1792-94   \n",
       "5   002/1   —    —     087/1   Piano Sonata No.1   F minor  1793-95   \n",
       "6   002/2   —    —     087/2   Piano Sonata No.2   A major  1794-95   \n",
       "\n",
       "     scoring      genre                          notes   mode min_date  \\\n",
       "1   vn vc pf    Chamber                                 major     1792   \n",
       "2   vn vc pf    Chamber                                 major     1792   \n",
       "3   vn vc pf    Chamber   arr. for 2vn va vc as Op.104  minor     1792   \n",
       "5         pf   Keyboard                                 minor     1793   \n",
       "6         pf   Keyboard                                 major     1794   \n",
       "\n",
       "  max_date  \n",
       "1     1793  \n",
       "2     1794  \n",
       "3     1794  \n",
       "5     1795  \n",
       "6     1795  "
      ]
     },
     "execution_count": 42,
     "metadata": {},
     "output_type": "execute_result"
    }
   ],
   "source": [
    "df.head()"
   ]
  },
  {
   "cell_type": "code",
   "execution_count": 43,
   "metadata": {},
   "outputs": [
    {
     "data": {
      "text/html": [
       "<div>\n",
       "<style scoped>\n",
       "    .dataframe tbody tr th:only-of-type {\n",
       "        vertical-align: middle;\n",
       "    }\n",
       "\n",
       "    .dataframe tbody tr th {\n",
       "        vertical-align: top;\n",
       "    }\n",
       "\n",
       "    .dataframe thead th {\n",
       "        text-align: right;\n",
       "    }\n",
       "</style>\n",
       "<table border=\"1\" class=\"dataframe\">\n",
       "  <thead>\n",
       "    <tr style=\"text-align: right;\">\n",
       "      <th></th>\n",
       "      <th>op.</th>\n",
       "      <th>woo</th>\n",
       "      <th>hess</th>\n",
       "      <th>biam-onti</th>\n",
       "      <th>title</th>\n",
       "      <th>key</th>\n",
       "      <th>date</th>\n",
       "      <th>scoring</th>\n",
       "      <th>genre</th>\n",
       "      <th>notes</th>\n",
       "      <th>mode</th>\n",
       "      <th>min_date</th>\n",
       "      <th>max_date</th>\n",
       "    </tr>\n",
       "  </thead>\n",
       "  <tbody>\n",
       "    <tr>\n",
       "      <th>271</th>\n",
       "      <td>—</td>\n",
       "      <td>002b</td>\n",
       "      <td>117</td>\n",
       "      <td>554</td>\n",
       "      <td>Prelude to Act II</td>\n",
       "      <td>D major</td>\n",
       "      <td>1805?</td>\n",
       "      <td>orch</td>\n",
       "      <td>Stage</td>\n",
       "      <td>now thought to be from the opening of Act II ...</td>\n",
       "      <td>major</td>\n",
       "      <td>1805?</td>\n",
       "      <td>1805?</td>\n",
       "    </tr>\n",
       "    <tr>\n",
       "      <th>347</th>\n",
       "      <td>—</td>\n",
       "      <td>053</td>\n",
       "      <td>066</td>\n",
       "      <td>159</td>\n",
       "      <td>Allegretto</td>\n",
       "      <td>C minor</td>\n",
       "      <td>1796-97 ?</td>\n",
       "      <td>pf</td>\n",
       "      <td>Keyboard</td>\n",
       "      <td>2nd version</td>\n",
       "      <td>minor</td>\n",
       "      <td>1796</td>\n",
       "      <td>97 ?</td>\n",
       "    </tr>\n",
       "    <tr>\n",
       "      <th>541</th>\n",
       "      <td>—</td>\n",
       "      <td>Anh. 04</td>\n",
       "      <td>—</td>\n",
       "      <td>—</td>\n",
       "      <td>Flute Sonata</td>\n",
       "      <td>B♭ major</td>\n",
       "      <td>1790-92 ?</td>\n",
       "      <td>fl pf</td>\n",
       "      <td>Chamber</td>\n",
       "      <td>Beethoven's authoship uncertain</td>\n",
       "      <td>major</td>\n",
       "      <td>1790</td>\n",
       "      <td>92 ?</td>\n",
       "    </tr>\n",
       "    <tr>\n",
       "      <th>543</th>\n",
       "      <td>—</td>\n",
       "      <td>Anh. 10</td>\n",
       "      <td>—</td>\n",
       "      <td>—</td>\n",
       "      <td>Variations on 'Ich hab ein kleines Hüttchen nur'</td>\n",
       "      <td>B♭ major</td>\n",
       "      <td>1795 ?</td>\n",
       "      <td>pf</td>\n",
       "      <td>Keyboard</td>\n",
       "      <td>Beethoven's authorship is doubtful</td>\n",
       "      <td>major</td>\n",
       "      <td>1795 ?</td>\n",
       "      <td>95 ?</td>\n",
       "    </tr>\n",
       "  </tbody>\n",
       "</table>\n",
       "</div>"
      ],
      "text/plain": [
       "    op.       woo  hess biam-onti  \\\n",
       "271   —      002b   117       554   \n",
       "347   —       053   066       159   \n",
       "541   —   Anh. 04     —         —   \n",
       "543   —   Anh. 10     —         —   \n",
       "\n",
       "                                                 title       key       date  \\\n",
       "271                                  Prelude to Act II   D major      1805?   \n",
       "347                                         Allegretto   C minor  1796-97 ?   \n",
       "541                                       Flute Sonata  B♭ major  1790-92 ?   \n",
       "543   Variations on 'Ich hab ein kleines Hüttchen nur'  B♭ major     1795 ?   \n",
       "\n",
       "    scoring      genre                                              notes  \\\n",
       "271    orch      Stage   now thought to be from the opening of Act II ...   \n",
       "347      pf   Keyboard                                        2nd version   \n",
       "541   fl pf    Chamber                    Beethoven's authoship uncertain   \n",
       "543      pf   Keyboard                 Beethoven's authorship is doubtful   \n",
       "\n",
       "      mode min_date max_date  \n",
       "271  major    1805?    1805?  \n",
       "347  minor     1796     97 ?  \n",
       "541  major     1790     92 ?  \n",
       "543  major   1795 ?     95 ?  "
      ]
     },
     "execution_count": 43,
     "metadata": {},
     "output_type": "execute_result"
    }
   ],
   "source": [
    "# Looks like there are question marks... let's just take these out too to resolve issues\n",
    "df[df[\"date\"].str.contains(\"\\?\")]"
   ]
  },
  {
   "cell_type": "code",
   "execution_count": 44,
   "metadata": {},
   "outputs": [],
   "source": [
    "df = df[~df[\"date\"].str.contains(\"\\?\")]"
   ]
  },
  {
   "cell_type": "code",
   "execution_count": 45,
   "metadata": {},
   "outputs": [
    {
     "data": {
      "text/plain": [
       "395"
      ]
     },
     "execution_count": 45,
     "metadata": {},
     "output_type": "execute_result"
    }
   ],
   "source": [
    "len(df)"
   ]
  },
  {
   "cell_type": "markdown",
   "metadata": {},
   "source": [
    "### Further non-numeric purging"
   ]
  },
  {
   "cell_type": "markdown",
   "metadata": {
    "heading_collapsed": true
   },
   "source": [
    "#### Failed attempts"
   ]
  },
  {
   "cell_type": "markdown",
   "metadata": {
    "hidden": true
   },
   "source": [
    "Alright, let's find dates where there is something other than a number or \"-\""
   ]
  },
  {
   "cell_type": "code",
   "execution_count": 46,
   "metadata": {
    "hidden": true
   },
   "outputs": [
    {
     "data": {
      "text/html": [
       "<div>\n",
       "<style scoped>\n",
       "    .dataframe tbody tr th:only-of-type {\n",
       "        vertical-align: middle;\n",
       "    }\n",
       "\n",
       "    .dataframe tbody tr th {\n",
       "        vertical-align: top;\n",
       "    }\n",
       "\n",
       "    .dataframe thead th {\n",
       "        text-align: right;\n",
       "    }\n",
       "</style>\n",
       "<table border=\"1\" class=\"dataframe\">\n",
       "  <thead>\n",
       "    <tr style=\"text-align: right;\">\n",
       "      <th></th>\n",
       "      <th>op.</th>\n",
       "      <th>woo</th>\n",
       "      <th>hess</th>\n",
       "      <th>biam-onti</th>\n",
       "      <th>title</th>\n",
       "      <th>key</th>\n",
       "      <th>date</th>\n",
       "      <th>scoring</th>\n",
       "      <th>genre</th>\n",
       "      <th>notes</th>\n",
       "      <th>mode</th>\n",
       "      <th>min_date</th>\n",
       "      <th>max_date</th>\n",
       "    </tr>\n",
       "  </thead>\n",
       "  <tbody>\n",
       "    <tr>\n",
       "      <th>1</th>\n",
       "      <td>001/1</td>\n",
       "      <td>—</td>\n",
       "      <td>—</td>\n",
       "      <td>062/1</td>\n",
       "      <td>Piano Trio</td>\n",
       "      <td>E♭ major</td>\n",
       "      <td>1792-93</td>\n",
       "      <td>vn vc pf</td>\n",
       "      <td>Chamber</td>\n",
       "      <td></td>\n",
       "      <td>major</td>\n",
       "      <td>1792</td>\n",
       "      <td>1793</td>\n",
       "    </tr>\n",
       "    <tr>\n",
       "      <th>2</th>\n",
       "      <td>001/2</td>\n",
       "      <td>—</td>\n",
       "      <td>—</td>\n",
       "      <td>062/2</td>\n",
       "      <td>Piano Trio</td>\n",
       "      <td>G major</td>\n",
       "      <td>1792-94</td>\n",
       "      <td>vn vc pf</td>\n",
       "      <td>Chamber</td>\n",
       "      <td></td>\n",
       "      <td>major</td>\n",
       "      <td>1792</td>\n",
       "      <td>1794</td>\n",
       "    </tr>\n",
       "    <tr>\n",
       "      <th>3</th>\n",
       "      <td>001/3</td>\n",
       "      <td>—</td>\n",
       "      <td>—</td>\n",
       "      <td>062/3</td>\n",
       "      <td>Piano Trio</td>\n",
       "      <td>C minor</td>\n",
       "      <td>1792-94</td>\n",
       "      <td>vn vc pf</td>\n",
       "      <td>Chamber</td>\n",
       "      <td>arr. for 2vn va vc as Op.104</td>\n",
       "      <td>minor</td>\n",
       "      <td>1792</td>\n",
       "      <td>1794</td>\n",
       "    </tr>\n",
       "    <tr>\n",
       "      <th>5</th>\n",
       "      <td>002/1</td>\n",
       "      <td>—</td>\n",
       "      <td>—</td>\n",
       "      <td>087/1</td>\n",
       "      <td>Piano Sonata No.1</td>\n",
       "      <td>F minor</td>\n",
       "      <td>1793-95</td>\n",
       "      <td>pf</td>\n",
       "      <td>Keyboard</td>\n",
       "      <td></td>\n",
       "      <td>minor</td>\n",
       "      <td>1793</td>\n",
       "      <td>1795</td>\n",
       "    </tr>\n",
       "    <tr>\n",
       "      <th>6</th>\n",
       "      <td>002/2</td>\n",
       "      <td>—</td>\n",
       "      <td>—</td>\n",
       "      <td>087/2</td>\n",
       "      <td>Piano Sonata No.2</td>\n",
       "      <td>A major</td>\n",
       "      <td>1794-95</td>\n",
       "      <td>pf</td>\n",
       "      <td>Keyboard</td>\n",
       "      <td></td>\n",
       "      <td>major</td>\n",
       "      <td>1794</td>\n",
       "      <td>1795</td>\n",
       "    </tr>\n",
       "  </tbody>\n",
       "</table>\n",
       "</div>"
      ],
      "text/plain": [
       "      op. woo hess biam-onti               title       key     date  \\\n",
       "1   001/1   —    —     062/1          Piano Trio  E♭ major  1792-93   \n",
       "2   001/2   —    —     062/2          Piano Trio   G major  1792-94   \n",
       "3   001/3   —    —     062/3          Piano Trio   C minor  1792-94   \n",
       "5   002/1   —    —     087/1   Piano Sonata No.1   F minor  1793-95   \n",
       "6   002/2   —    —     087/2   Piano Sonata No.2   A major  1794-95   \n",
       "\n",
       "     scoring      genre                          notes   mode min_date  \\\n",
       "1   vn vc pf    Chamber                                 major     1792   \n",
       "2   vn vc pf    Chamber                                 major     1792   \n",
       "3   vn vc pf    Chamber   arr. for 2vn va vc as Op.104  minor     1792   \n",
       "5         pf   Keyboard                                 minor     1793   \n",
       "6         pf   Keyboard                                 major     1794   \n",
       "\n",
       "  max_date  \n",
       "1     1793  \n",
       "2     1794  \n",
       "3     1794  \n",
       "5     1795  \n",
       "6     1795  "
      ]
     },
     "execution_count": 46,
     "metadata": {},
     "output_type": "execute_result"
    }
   ],
   "source": [
    "df[(df[\"date\"] != r\"[0-9]*\") | (df[\"date\"] != r\"[0-9]*-[0-9]*\")].head()"
   ]
  },
  {
   "cell_type": "markdown",
   "metadata": {
    "hidden": true
   },
   "source": [
    "Uh..."
   ]
  },
  {
   "cell_type": "code",
   "execution_count": 47,
   "metadata": {
    "hidden": true
   },
   "outputs": [
    {
     "data": {
      "text/html": [
       "<div>\n",
       "<style scoped>\n",
       "    .dataframe tbody tr th:only-of-type {\n",
       "        vertical-align: middle;\n",
       "    }\n",
       "\n",
       "    .dataframe tbody tr th {\n",
       "        vertical-align: top;\n",
       "    }\n",
       "\n",
       "    .dataframe thead th {\n",
       "        text-align: right;\n",
       "    }\n",
       "</style>\n",
       "<table border=\"1\" class=\"dataframe\">\n",
       "  <thead>\n",
       "    <tr style=\"text-align: right;\">\n",
       "      <th></th>\n",
       "      <th>op.</th>\n",
       "      <th>woo</th>\n",
       "      <th>hess</th>\n",
       "      <th>biam-onti</th>\n",
       "      <th>title</th>\n",
       "      <th>key</th>\n",
       "      <th>date</th>\n",
       "      <th>scoring</th>\n",
       "      <th>genre</th>\n",
       "      <th>notes</th>\n",
       "      <th>mode</th>\n",
       "      <th>min_date</th>\n",
       "      <th>max_date</th>\n",
       "    </tr>\n",
       "  </thead>\n",
       "  <tbody>\n",
       "    <tr>\n",
       "      <th>8</th>\n",
       "      <td>003</td>\n",
       "      <td>—</td>\n",
       "      <td>—</td>\n",
       "      <td>105</td>\n",
       "      <td>String Trio</td>\n",
       "      <td>E♭ major</td>\n",
       "      <td>1794</td>\n",
       "      <td>vn va vc</td>\n",
       "      <td>Chamber</td>\n",
       "      <td>see also Op.64</td>\n",
       "      <td>major</td>\n",
       "      <td>1794</td>\n",
       "      <td>1794</td>\n",
       "    </tr>\n",
       "    <tr>\n",
       "      <th>9</th>\n",
       "      <td>004</td>\n",
       "      <td>—</td>\n",
       "      <td>—</td>\n",
       "      <td>115</td>\n",
       "      <td>String Quintet</td>\n",
       "      <td>E♭ major</td>\n",
       "      <td>1795</td>\n",
       "      <td>2vn 2va vc</td>\n",
       "      <td>Chamber</td>\n",
       "      <td>based on Op.103; see also Op.63</td>\n",
       "      <td>major</td>\n",
       "      <td>1795</td>\n",
       "      <td>1795</td>\n",
       "    </tr>\n",
       "    <tr>\n",
       "      <th>11</th>\n",
       "      <td>005/1</td>\n",
       "      <td>—</td>\n",
       "      <td>—</td>\n",
       "      <td>106/1</td>\n",
       "      <td>Cello Sonata No.1</td>\n",
       "      <td>F major</td>\n",
       "      <td>1796</td>\n",
       "      <td>vc pf</td>\n",
       "      <td>Chamber</td>\n",
       "      <td></td>\n",
       "      <td>major</td>\n",
       "      <td>1796</td>\n",
       "      <td>1796</td>\n",
       "    </tr>\n",
       "    <tr>\n",
       "      <th>12</th>\n",
       "      <td>005/2</td>\n",
       "      <td>—</td>\n",
       "      <td>—</td>\n",
       "      <td>106/2</td>\n",
       "      <td>Cello Sonata No.2</td>\n",
       "      <td>G minor</td>\n",
       "      <td>1796</td>\n",
       "      <td>vc pf</td>\n",
       "      <td>Chamber</td>\n",
       "      <td></td>\n",
       "      <td>minor</td>\n",
       "      <td>1796</td>\n",
       "      <td>1796</td>\n",
       "    </tr>\n",
       "    <tr>\n",
       "      <th>32</th>\n",
       "      <td>014/2</td>\n",
       "      <td>—</td>\n",
       "      <td>—</td>\n",
       "      <td>284</td>\n",
       "      <td>Piano Sonata No.10</td>\n",
       "      <td>G major</td>\n",
       "      <td>1799</td>\n",
       "      <td>pf</td>\n",
       "      <td>Keyboard</td>\n",
       "      <td></td>\n",
       "      <td>major</td>\n",
       "      <td>1799</td>\n",
       "      <td>1799</td>\n",
       "    </tr>\n",
       "  </tbody>\n",
       "</table>\n",
       "</div>"
      ],
      "text/plain": [
       "       op. woo hess biam-onti                title       key  date  \\\n",
       "8      003   —    —       105          String Trio  E♭ major  1794   \n",
       "9      004   —    —       115       String Quintet  E♭ major  1795   \n",
       "11   005/1   —    —     106/1    Cello Sonata No.1   F major  1796   \n",
       "12   005/2   —    —     106/2    Cello Sonata No.2   G minor  1796   \n",
       "32   014/2   —    —       284   Piano Sonata No.10   G major  1799   \n",
       "\n",
       "        scoring      genre                             notes   mode min_date  \\\n",
       "8      vn va vc    Chamber                    see also Op.64  major     1794   \n",
       "9    2vn 2va vc    Chamber   based on Op.103; see also Op.63  major     1795   \n",
       "11        vc pf    Chamber                                    major     1796   \n",
       "12        vc pf    Chamber                                    minor     1796   \n",
       "32           pf   Keyboard                                    major     1799   \n",
       "\n",
       "   max_date  \n",
       "8      1794  \n",
       "9      1795  \n",
       "11     1796  \n",
       "12     1796  \n",
       "32     1799  "
      ]
     },
     "execution_count": 47,
     "metadata": {},
     "output_type": "execute_result"
    }
   ],
   "source": [
    "df[~df[\"date\"].apply(lambda x: bool(re.match(r\"[0-9]*-[0-9]*\", x)))].head()"
   ]
  },
  {
   "cell_type": "markdown",
   "metadata": {
    "hidden": true
   },
   "source": [
    "Hmm..."
   ]
  },
  {
   "cell_type": "code",
   "execution_count": 48,
   "metadata": {
    "hidden": true
   },
   "outputs": [
    {
     "data": {
      "text/html": [
       "<div>\n",
       "<style scoped>\n",
       "    .dataframe tbody tr th:only-of-type {\n",
       "        vertical-align: middle;\n",
       "    }\n",
       "\n",
       "    .dataframe tbody tr th {\n",
       "        vertical-align: top;\n",
       "    }\n",
       "\n",
       "    .dataframe thead th {\n",
       "        text-align: right;\n",
       "    }\n",
       "</style>\n",
       "<table border=\"1\" class=\"dataframe\">\n",
       "  <thead>\n",
       "    <tr style=\"text-align: right;\">\n",
       "      <th></th>\n",
       "      <th>op.</th>\n",
       "      <th>woo</th>\n",
       "      <th>hess</th>\n",
       "      <th>biam-onti</th>\n",
       "      <th>title</th>\n",
       "      <th>key</th>\n",
       "      <th>date</th>\n",
       "      <th>scoring</th>\n",
       "      <th>genre</th>\n",
       "      <th>notes</th>\n",
       "      <th>mode</th>\n",
       "      <th>min_date</th>\n",
       "      <th>max_date</th>\n",
       "    </tr>\n",
       "  </thead>\n",
       "  <tbody>\n",
       "  </tbody>\n",
       "</table>\n",
       "</div>"
      ],
      "text/plain": [
       "Empty DataFrame\n",
       "Columns: [op., woo, hess, biam-onti, title, key, date, scoring, genre, notes, mode, min_date, max_date]\n",
       "Index: []"
      ]
     },
     "execution_count": 48,
     "metadata": {},
     "output_type": "execute_result"
    }
   ],
   "source": [
    "df[~df[\"date\"].str.match(r\"[0-9]*-[0-9]*|[0-9]*\")]"
   ]
  },
  {
   "cell_type": "markdown",
   "metadata": {},
   "source": [
    "#### Successful approach"
   ]
  },
  {
   "cell_type": "markdown",
   "metadata": {},
   "source": [
    "Okay, let's switch up the approach"
   ]
  },
  {
   "cell_type": "code",
   "execution_count": 49,
   "metadata": {},
   "outputs": [],
   "source": [
    "chars_to_match = [str(x) for x in list(range(10)) + [\"-\"]]"
   ]
  },
  {
   "cell_type": "code",
   "execution_count": 50,
   "metadata": {},
   "outputs": [
    {
     "data": {
      "text/plain": [
       "['0', '1', '2', '3', '4', '5', '6', '7', '8', '9', '-']"
      ]
     },
     "execution_count": 50,
     "metadata": {},
     "output_type": "execute_result"
    }
   ],
   "source": [
    "chars_to_match"
   ]
  },
  {
   "cell_type": "code",
   "execution_count": 51,
   "metadata": {},
   "outputs": [
    {
     "data": {
      "text/html": [
       "<div>\n",
       "<style scoped>\n",
       "    .dataframe tbody tr th:only-of-type {\n",
       "        vertical-align: middle;\n",
       "    }\n",
       "\n",
       "    .dataframe tbody tr th {\n",
       "        vertical-align: top;\n",
       "    }\n",
       "\n",
       "    .dataframe thead th {\n",
       "        text-align: right;\n",
       "    }\n",
       "</style>\n",
       "<table border=\"1\" class=\"dataframe\">\n",
       "  <thead>\n",
       "    <tr style=\"text-align: right;\">\n",
       "      <th></th>\n",
       "      <th>op.</th>\n",
       "      <th>woo</th>\n",
       "      <th>hess</th>\n",
       "      <th>biam-onti</th>\n",
       "      <th>title</th>\n",
       "      <th>key</th>\n",
       "      <th>date</th>\n",
       "      <th>scoring</th>\n",
       "      <th>genre</th>\n",
       "      <th>notes</th>\n",
       "      <th>mode</th>\n",
       "      <th>min_date</th>\n",
       "      <th>max_date</th>\n",
       "    </tr>\n",
       "  </thead>\n",
       "  <tbody>\n",
       "    <tr>\n",
       "      <th>108</th>\n",
       "      <td>058</td>\n",
       "      <td>—</td>\n",
       "      <td>—</td>\n",
       "      <td>431</td>\n",
       "      <td>Piano Concerto No.4</td>\n",
       "      <td>G major</td>\n",
       "      <td>1804-07, rev.1809</td>\n",
       "      <td>pf orch</td>\n",
       "      <td>Orchestral</td>\n",
       "      <td>arr. for 2vn va vc db pf as Op.58a</td>\n",
       "      <td>major</td>\n",
       "      <td>1804</td>\n",
       "      <td>1807, rev.1809</td>\n",
       "    </tr>\n",
       "    <tr>\n",
       "      <th>296</th>\n",
       "      <td>—</td>\n",
       "      <td>018</td>\n",
       "      <td>007</td>\n",
       "      <td>780</td>\n",
       "      <td>March ('Marsch für die bohmische Landwehr') (...</td>\n",
       "      <td>F major</td>\n",
       "      <td>1822 ca.</td>\n",
       "      <td>ww br perc</td>\n",
       "      <td>Orchestral</td>\n",
       "      <td>3rd version, with trio and 'Turkish' orchestr...</td>\n",
       "      <td>major</td>\n",
       "      <td>1822 ca.</td>\n",
       "      <td>1822 ca.</td>\n",
       "    </tr>\n",
       "    <tr>\n",
       "      <th>299</th>\n",
       "      <td>—</td>\n",
       "      <td>019</td>\n",
       "      <td>009</td>\n",
       "      <td>781</td>\n",
       "      <td>March</td>\n",
       "      <td>F major</td>\n",
       "      <td>1822 ca.</td>\n",
       "      <td>ww br perc</td>\n",
       "      <td>Orchestral</td>\n",
       "      <td>3rd version, with trio and 'Turkish' orchestr...</td>\n",
       "      <td>major</td>\n",
       "      <td>1822 ca.</td>\n",
       "      <td>1822 ca.</td>\n",
       "    </tr>\n",
       "    <tr>\n",
       "      <th>301</th>\n",
       "      <td>—</td>\n",
       "      <td>020</td>\n",
       "      <td>—</td>\n",
       "      <td>525</td>\n",
       "      <td>March ('Zapfenstreich') ('The Tattoo')</td>\n",
       "      <td>C major</td>\n",
       "      <td>1822 ca.</td>\n",
       "      <td>ww br perc</td>\n",
       "      <td>Orchestral</td>\n",
       "      <td>2nd version, with trio</td>\n",
       "      <td>major</td>\n",
       "      <td>1822 ca.</td>\n",
       "      <td>1822 ca.</td>\n",
       "    </tr>\n",
       "  </tbody>\n",
       "</table>\n",
       "</div>"
      ],
      "text/plain": [
       "      op.   woo  hess biam-onti  \\\n",
       "108   058     —     —       431   \n",
       "296     —   018   007       780   \n",
       "299     —   019   009       781   \n",
       "301     —   020     —       525   \n",
       "\n",
       "                                                 title      key  \\\n",
       "108                                Piano Concerto No.4  G major   \n",
       "296   March ('Marsch für die bohmische Landwehr') (...  F major   \n",
       "299                                              March  F major   \n",
       "301             March ('Zapfenstreich') ('The Tattoo')  C major   \n",
       "\n",
       "                  date      scoring        genre  \\\n",
       "108  1804-07, rev.1809      pf orch   Orchestral   \n",
       "296           1822 ca.   ww br perc   Orchestral   \n",
       "299           1822 ca.   ww br perc   Orchestral   \n",
       "301           1822 ca.   ww br perc   Orchestral   \n",
       "\n",
       "                                                 notes   mode  min_date  \\\n",
       "108                 arr. for 2vn va vc db pf as Op.58a  major      1804   \n",
       "296   3rd version, with trio and 'Turkish' orchestr...  major  1822 ca.   \n",
       "299   3rd version, with trio and 'Turkish' orchestr...  major  1822 ca.   \n",
       "301                             2nd version, with trio  major  1822 ca.   \n",
       "\n",
       "           max_date  \n",
       "108  1807, rev.1809  \n",
       "296        1822 ca.  \n",
       "299        1822 ca.  \n",
       "301        1822 ca.  "
      ]
     },
     "execution_count": 51,
     "metadata": {},
     "output_type": "execute_result"
    }
   ],
   "source": [
    "df[df[\"date\"].apply(lambda x: any(char not in chars_to_match for char in x))]"
   ]
  },
  {
   "cell_type": "markdown",
   "metadata": {},
   "source": [
    "Keep these exceptions in mind... just use circas, though ignore multiple versions; just use ca. (circa)"
   ]
  },
  {
   "cell_type": "code",
   "execution_count": 52,
   "metadata": {},
   "outputs": [],
   "source": [
    "df[\"min_date\"] = df[\"min_date\"].str.replace(\" ca.\", \"\")\n",
    "df[\"max_date\"] = df[\"max_date\"].str.replace(\" ca.\", \"\")"
   ]
  },
  {
   "cell_type": "code",
   "execution_count": 53,
   "metadata": {},
   "outputs": [],
   "source": [
    "df.loc[df[\"max_date\"].str.contains(\"rev\"), \"max_date\"] = 1807"
   ]
  },
  {
   "cell_type": "markdown",
   "metadata": {},
   "source": [
    "### Convert to int"
   ]
  },
  {
   "cell_type": "code",
   "execution_count": 54,
   "metadata": {},
   "outputs": [],
   "source": [
    "df[\"min_date\"] = df[\"min_date\"].apply(int)\n",
    "df[\"max_date\"] = df[\"max_date\"].apply(int)\n",
    "df[\"avg_date\"] = (df[\"min_date\"] + df[\"max_date\"]) / 2"
   ]
  },
  {
   "cell_type": "code",
   "execution_count": 55,
   "metadata": {
    "scrolled": true
   },
   "outputs": [
    {
     "data": {
      "text/html": [
       "<div>\n",
       "<style scoped>\n",
       "    .dataframe tbody tr th:only-of-type {\n",
       "        vertical-align: middle;\n",
       "    }\n",
       "\n",
       "    .dataframe tbody tr th {\n",
       "        vertical-align: top;\n",
       "    }\n",
       "\n",
       "    .dataframe thead th {\n",
       "        text-align: right;\n",
       "    }\n",
       "</style>\n",
       "<table border=\"1\" class=\"dataframe\">\n",
       "  <thead>\n",
       "    <tr style=\"text-align: right;\">\n",
       "      <th></th>\n",
       "      <th>op.</th>\n",
       "      <th>woo</th>\n",
       "      <th>hess</th>\n",
       "      <th>biam-onti</th>\n",
       "      <th>title</th>\n",
       "      <th>key</th>\n",
       "      <th>date</th>\n",
       "      <th>scoring</th>\n",
       "      <th>genre</th>\n",
       "      <th>notes</th>\n",
       "      <th>mode</th>\n",
       "      <th>min_date</th>\n",
       "      <th>max_date</th>\n",
       "      <th>avg_date</th>\n",
       "    </tr>\n",
       "  </thead>\n",
       "  <tbody>\n",
       "    <tr>\n",
       "      <th>1</th>\n",
       "      <td>001/1</td>\n",
       "      <td>—</td>\n",
       "      <td>—</td>\n",
       "      <td>062/1</td>\n",
       "      <td>Piano Trio</td>\n",
       "      <td>E♭ major</td>\n",
       "      <td>1792-93</td>\n",
       "      <td>vn vc pf</td>\n",
       "      <td>Chamber</td>\n",
       "      <td></td>\n",
       "      <td>major</td>\n",
       "      <td>1792</td>\n",
       "      <td>1793</td>\n",
       "      <td>1792.5</td>\n",
       "    </tr>\n",
       "    <tr>\n",
       "      <th>2</th>\n",
       "      <td>001/2</td>\n",
       "      <td>—</td>\n",
       "      <td>—</td>\n",
       "      <td>062/2</td>\n",
       "      <td>Piano Trio</td>\n",
       "      <td>G major</td>\n",
       "      <td>1792-94</td>\n",
       "      <td>vn vc pf</td>\n",
       "      <td>Chamber</td>\n",
       "      <td></td>\n",
       "      <td>major</td>\n",
       "      <td>1792</td>\n",
       "      <td>1794</td>\n",
       "      <td>1793.0</td>\n",
       "    </tr>\n",
       "    <tr>\n",
       "      <th>3</th>\n",
       "      <td>001/3</td>\n",
       "      <td>—</td>\n",
       "      <td>—</td>\n",
       "      <td>062/3</td>\n",
       "      <td>Piano Trio</td>\n",
       "      <td>C minor</td>\n",
       "      <td>1792-94</td>\n",
       "      <td>vn vc pf</td>\n",
       "      <td>Chamber</td>\n",
       "      <td>arr. for 2vn va vc as Op.104</td>\n",
       "      <td>minor</td>\n",
       "      <td>1792</td>\n",
       "      <td>1794</td>\n",
       "      <td>1793.0</td>\n",
       "    </tr>\n",
       "    <tr>\n",
       "      <th>5</th>\n",
       "      <td>002/1</td>\n",
       "      <td>—</td>\n",
       "      <td>—</td>\n",
       "      <td>087/1</td>\n",
       "      <td>Piano Sonata No.1</td>\n",
       "      <td>F minor</td>\n",
       "      <td>1793-95</td>\n",
       "      <td>pf</td>\n",
       "      <td>Keyboard</td>\n",
       "      <td></td>\n",
       "      <td>minor</td>\n",
       "      <td>1793</td>\n",
       "      <td>1795</td>\n",
       "      <td>1794.0</td>\n",
       "    </tr>\n",
       "    <tr>\n",
       "      <th>6</th>\n",
       "      <td>002/2</td>\n",
       "      <td>—</td>\n",
       "      <td>—</td>\n",
       "      <td>087/2</td>\n",
       "      <td>Piano Sonata No.2</td>\n",
       "      <td>A major</td>\n",
       "      <td>1794-95</td>\n",
       "      <td>pf</td>\n",
       "      <td>Keyboard</td>\n",
       "      <td></td>\n",
       "      <td>major</td>\n",
       "      <td>1794</td>\n",
       "      <td>1795</td>\n",
       "      <td>1794.5</td>\n",
       "    </tr>\n",
       "  </tbody>\n",
       "</table>\n",
       "</div>"
      ],
      "text/plain": [
       "      op. woo hess biam-onti               title       key     date  \\\n",
       "1   001/1   —    —     062/1          Piano Trio  E♭ major  1792-93   \n",
       "2   001/2   —    —     062/2          Piano Trio   G major  1792-94   \n",
       "3   001/3   —    —     062/3          Piano Trio   C minor  1792-94   \n",
       "5   002/1   —    —     087/1   Piano Sonata No.1   F minor  1793-95   \n",
       "6   002/2   —    —     087/2   Piano Sonata No.2   A major  1794-95   \n",
       "\n",
       "     scoring      genre                          notes   mode  min_date  \\\n",
       "1   vn vc pf    Chamber                                 major      1792   \n",
       "2   vn vc pf    Chamber                                 major      1792   \n",
       "3   vn vc pf    Chamber   arr. for 2vn va vc as Op.104  minor      1792   \n",
       "5         pf   Keyboard                                 minor      1793   \n",
       "6         pf   Keyboard                                 major      1794   \n",
       "\n",
       "   max_date  avg_date  \n",
       "1      1793    1792.5  \n",
       "2      1794    1793.0  \n",
       "3      1794    1793.0  \n",
       "5      1795    1794.0  \n",
       "6      1795    1794.5  "
      ]
     },
     "execution_count": 55,
     "metadata": {},
     "output_type": "execute_result"
    }
   ],
   "source": [
    "df.head()"
   ]
  },
  {
   "cell_type": "markdown",
   "metadata": {},
   "source": [
    "# Differences by year?"
   ]
  },
  {
   "cell_type": "markdown",
   "metadata": {},
   "source": [
    "## Min vs. max date (year) size"
   ]
  },
  {
   "cell_type": "code",
   "execution_count": 56,
   "metadata": {},
   "outputs": [
    {
     "data": {
      "text/plain": [
       "<matplotlib.axes._subplots.AxesSubplot at 0x11792b898>"
      ]
     },
     "execution_count": 56,
     "metadata": {},
     "output_type": "execute_result"
    },
    {
     "data": {
      "image/png": "[encoded data removed]",
      "text/plain": [
       "<matplotlib.figure.Figure at 0x11786d400>"
      ]
     },
     "metadata": {},
     "output_type": "display_data"
    }
   ],
   "source": [
    "df.groupby(\"min_date\").size().plot()"
   ]
  },
  {
   "cell_type": "code",
   "execution_count": 57,
   "metadata": {},
   "outputs": [
    {
     "data": {
      "text/plain": [
       "<matplotlib.axes._subplots.AxesSubplot at 0x117b375c0>"
      ]
     },
     "execution_count": 57,
     "metadata": {},
     "output_type": "execute_result"
    },
    {
     "data": {
      "image/png": "[encoded data removed]",
      "text/plain": [
       "<matplotlib.figure.Figure at 0x11786aac8>"
      ]
     },
     "metadata": {},
     "output_type": "display_data"
    }
   ],
   "source": [
    "df.groupby(\"max_date\").size().plot()"
   ]
  },
  {
   "cell_type": "markdown",
   "metadata": {},
   "source": [
    "## Key"
   ]
  },
  {
   "cell_type": "code",
   "execution_count": 58,
   "metadata": {},
   "outputs": [
    {
     "data": {
      "text/plain": [
       "key\n",
       "A♭ major-D major    1790.000000\n",
       "G major             1800.392857\n",
       "F♯ minor            1801.500000\n",
       "C major-C minor     1802.000000\n",
       "C minor             1802.739130\n",
       "F minor             1803.000000\n",
       "A major             1803.685185\n",
       "D major             1804.053191\n",
       "E♭ major            1804.578947\n",
       "F major             1805.686047\n",
       "E minor             1806.875000\n",
       "C major             1807.061538\n",
       "G minor             1807.071429\n",
       "A minor             1808.166667\n",
       "F♯ major            1809.000000\n",
       "A♭ major            1809.500000\n",
       "E major             1810.178571\n",
       "B♭ major            1810.863636\n",
       "C♯ minor            1813.250000\n",
       "D minor             1814.388889\n",
       "B minor             1821.000000\n",
       "Name: avg_date, dtype: float64"
      ]
     },
     "execution_count": 58,
     "metadata": {},
     "output_type": "execute_result"
    }
   ],
   "source": [
    "df.groupby(\"key\")[\"avg_date\"].mean().sort_values()"
   ]
  },
  {
   "cell_type": "markdown",
   "metadata": {},
   "source": [
    "## Mode"
   ]
  },
  {
   "cell_type": "code",
   "execution_count": 59,
   "metadata": {},
   "outputs": [
    {
     "data": {
      "text/html": [
       "<div>\n",
       "<style scoped>\n",
       "    .dataframe tbody tr th:only-of-type {\n",
       "        vertical-align: middle;\n",
       "    }\n",
       "\n",
       "    .dataframe tbody tr th {\n",
       "        vertical-align: top;\n",
       "    }\n",
       "\n",
       "    .dataframe thead th {\n",
       "        text-align: right;\n",
       "    }\n",
       "</style>\n",
       "<table border=\"1\" class=\"dataframe\">\n",
       "  <thead>\n",
       "    <tr style=\"text-align: right;\">\n",
       "      <th></th>\n",
       "      <th>mean</th>\n",
       "      <th>size</th>\n",
       "    </tr>\n",
       "    <tr>\n",
       "      <th>mode</th>\n",
       "      <th></th>\n",
       "      <th></th>\n",
       "    </tr>\n",
       "  </thead>\n",
       "  <tbody>\n",
       "    <tr>\n",
       "      <th>major</th>\n",
       "      <td>1805.403904</td>\n",
       "      <td>333.0</td>\n",
       "    </tr>\n",
       "    <tr>\n",
       "      <th>minor</th>\n",
       "      <td>1806.418033</td>\n",
       "      <td>61.0</td>\n",
       "    </tr>\n",
       "    <tr>\n",
       "      <th>other</th>\n",
       "      <td>1802.000000</td>\n",
       "      <td>1.0</td>\n",
       "    </tr>\n",
       "  </tbody>\n",
       "</table>\n",
       "</div>"
      ],
      "text/plain": [
       "              mean   size\n",
       "mode                     \n",
       "major  1805.403904  333.0\n",
       "minor  1806.418033   61.0\n",
       "other  1802.000000    1.0"
      ]
     },
     "execution_count": 59,
     "metadata": {},
     "output_type": "execute_result"
    }
   ],
   "source": [
    "df.groupby(\"mode\")[\"avg_date\"].agg([np.mean, np.size])"
   ]
  },
  {
   "cell_type": "code",
   "execution_count": 60,
   "metadata": {},
   "outputs": [
    {
     "data": {
      "text/html": [
       "<div>\n",
       "<style scoped>\n",
       "    .dataframe tbody tr th:only-of-type {\n",
       "        vertical-align: middle;\n",
       "    }\n",
       "\n",
       "    .dataframe tbody tr th {\n",
       "        vertical-align: top;\n",
       "    }\n",
       "\n",
       "    .dataframe thead th {\n",
       "        text-align: right;\n",
       "    }\n",
       "</style>\n",
       "<table border=\"1\" class=\"dataframe\">\n",
       "  <thead>\n",
       "    <tr style=\"text-align: right;\">\n",
       "      <th></th>\n",
       "      <th>mean</th>\n",
       "      <th>size</th>\n",
       "    </tr>\n",
       "    <tr>\n",
       "      <th>mode</th>\n",
       "      <th></th>\n",
       "      <th></th>\n",
       "    </tr>\n",
       "  </thead>\n",
       "  <tbody>\n",
       "    <tr>\n",
       "      <th>major</th>\n",
       "      <td>1804.825826</td>\n",
       "      <td>333</td>\n",
       "    </tr>\n",
       "    <tr>\n",
       "      <th>minor</th>\n",
       "      <td>1805.754098</td>\n",
       "      <td>61</td>\n",
       "    </tr>\n",
       "    <tr>\n",
       "      <th>other</th>\n",
       "      <td>1802.000000</td>\n",
       "      <td>1</td>\n",
       "    </tr>\n",
       "  </tbody>\n",
       "</table>\n",
       "</div>"
      ],
      "text/plain": [
       "              mean  size\n",
       "mode                    \n",
       "major  1804.825826   333\n",
       "minor  1805.754098    61\n",
       "other  1802.000000     1"
      ]
     },
     "execution_count": 60,
     "metadata": {},
     "output_type": "execute_result"
    }
   ],
   "source": [
    "df.groupby(\"mode\")[\"min_date\"].agg([np.mean, np.size])"
   ]
  },
  {
   "cell_type": "code",
   "execution_count": 61,
   "metadata": {},
   "outputs": [
    {
     "data": {
      "text/html": [
       "<div>\n",
       "<style scoped>\n",
       "    .dataframe tbody tr th:only-of-type {\n",
       "        vertical-align: middle;\n",
       "    }\n",
       "\n",
       "    .dataframe tbody tr th {\n",
       "        vertical-align: top;\n",
       "    }\n",
       "\n",
       "    .dataframe thead th {\n",
       "        text-align: right;\n",
       "    }\n",
       "</style>\n",
       "<table border=\"1\" class=\"dataframe\">\n",
       "  <thead>\n",
       "    <tr style=\"text-align: right;\">\n",
       "      <th></th>\n",
       "      <th>mean</th>\n",
       "      <th>size</th>\n",
       "    </tr>\n",
       "    <tr>\n",
       "      <th>mode</th>\n",
       "      <th></th>\n",
       "      <th></th>\n",
       "    </tr>\n",
       "  </thead>\n",
       "  <tbody>\n",
       "    <tr>\n",
       "      <th>major</th>\n",
       "      <td>1805.981982</td>\n",
       "      <td>333</td>\n",
       "    </tr>\n",
       "    <tr>\n",
       "      <th>minor</th>\n",
       "      <td>1807.081967</td>\n",
       "      <td>61</td>\n",
       "    </tr>\n",
       "    <tr>\n",
       "      <th>other</th>\n",
       "      <td>1802.000000</td>\n",
       "      <td>1</td>\n",
       "    </tr>\n",
       "  </tbody>\n",
       "</table>\n",
       "</div>"
      ],
      "text/plain": [
       "              mean  size\n",
       "mode                    \n",
       "major  1805.981982   333\n",
       "minor  1807.081967    61\n",
       "other  1802.000000     1"
      ]
     },
     "execution_count": 61,
     "metadata": {},
     "output_type": "execute_result"
    }
   ],
   "source": [
    "df.groupby(\"mode\")[\"max_date\"].agg([np.mean, np.size])"
   ]
  },
  {
   "cell_type": "markdown",
   "metadata": {},
   "source": [
    "# Plot? "
   ]
  },
  {
   "cell_type": "code",
   "execution_count": 62,
   "metadata": {
    "scrolled": true
   },
   "outputs": [],
   "source": [
    "size_df = pd.DataFrame(df[df[\"mode\"] != \"other\"].groupby([\"mode\", \"avg_date\"]).size()).reset_index().rename(columns={0:\"size\"})"
   ]
  },
  {
   "cell_type": "code",
   "execution_count": 63,
   "metadata": {},
   "outputs": [],
   "source": [
    "cumsum_col = size_df.groupby(\"mode\")[\"size\"].cumsum()"
   ]
  },
  {
   "cell_type": "code",
   "execution_count": 64,
   "metadata": {},
   "outputs": [],
   "source": [
    "size_df[\"cumsum\"] = cumsum_col"
   ]
  },
  {
   "cell_type": "code",
   "execution_count": 65,
   "metadata": {},
   "outputs": [
    {
     "data": {
      "text/html": [
       "<div>\n",
       "<style scoped>\n",
       "    .dataframe tbody tr th:only-of-type {\n",
       "        vertical-align: middle;\n",
       "    }\n",
       "\n",
       "    .dataframe tbody tr th {\n",
       "        vertical-align: top;\n",
       "    }\n",
       "\n",
       "    .dataframe thead th {\n",
       "        text-align: right;\n",
       "    }\n",
       "</style>\n",
       "<table border=\"1\" class=\"dataframe\">\n",
       "  <thead>\n",
       "    <tr style=\"text-align: right;\">\n",
       "      <th></th>\n",
       "      <th>mode</th>\n",
       "      <th>avg_date</th>\n",
       "      <th>size</th>\n",
       "      <th>cumsum</th>\n",
       "    </tr>\n",
       "  </thead>\n",
       "  <tbody>\n",
       "    <tr>\n",
       "      <th>0</th>\n",
       "      <td>major</td>\n",
       "      <td>1782.0</td>\n",
       "      <td>1</td>\n",
       "      <td>1</td>\n",
       "    </tr>\n",
       "    <tr>\n",
       "      <th>1</th>\n",
       "      <td>major</td>\n",
       "      <td>1783.0</td>\n",
       "      <td>6</td>\n",
       "      <td>7</td>\n",
       "    </tr>\n",
       "    <tr>\n",
       "      <th>2</th>\n",
       "      <td>major</td>\n",
       "      <td>1784.0</td>\n",
       "      <td>1</td>\n",
       "      <td>8</td>\n",
       "    </tr>\n",
       "    <tr>\n",
       "      <th>3</th>\n",
       "      <td>major</td>\n",
       "      <td>1785.0</td>\n",
       "      <td>3</td>\n",
       "      <td>11</td>\n",
       "    </tr>\n",
       "    <tr>\n",
       "      <th>4</th>\n",
       "      <td>major</td>\n",
       "      <td>1788.0</td>\n",
       "      <td>2</td>\n",
       "      <td>13</td>\n",
       "    </tr>\n",
       "  </tbody>\n",
       "</table>\n",
       "</div>"
      ],
      "text/plain": [
       "    mode  avg_date  size  cumsum\n",
       "0  major    1782.0     1       1\n",
       "1  major    1783.0     6       7\n",
       "2  major    1784.0     1       8\n",
       "3  major    1785.0     3      11\n",
       "4  major    1788.0     2      13"
      ]
     },
     "execution_count": 65,
     "metadata": {},
     "output_type": "execute_result"
    }
   ],
   "source": [
    "size_df.head()"
   ]
  },
  {
   "cell_type": "code",
   "execution_count": 66,
   "metadata": {},
   "outputs": [
    {
     "data": {
      "text/html": [
       "<div>\n",
       "<style scoped>\n",
       "    .dataframe tbody tr th:only-of-type {\n",
       "        vertical-align: middle;\n",
       "    }\n",
       "\n",
       "    .dataframe tbody tr th {\n",
       "        vertical-align: top;\n",
       "    }\n",
       "\n",
       "    .dataframe thead th {\n",
       "        text-align: right;\n",
       "    }\n",
       "</style>\n",
       "<table border=\"1\" class=\"dataframe\">\n",
       "  <thead>\n",
       "    <tr style=\"text-align: right;\">\n",
       "      <th></th>\n",
       "      <th>mode</th>\n",
       "      <th>avg_date</th>\n",
       "      <th>size</th>\n",
       "      <th>cumsum</th>\n",
       "    </tr>\n",
       "  </thead>\n",
       "  <tbody>\n",
       "    <tr>\n",
       "      <th>102</th>\n",
       "      <td>minor</td>\n",
       "      <td>1821.5</td>\n",
       "      <td>1</td>\n",
       "      <td>54</td>\n",
       "    </tr>\n",
       "    <tr>\n",
       "      <th>103</th>\n",
       "      <td>minor</td>\n",
       "      <td>1824.0</td>\n",
       "      <td>2</td>\n",
       "      <td>56</td>\n",
       "    </tr>\n",
       "    <tr>\n",
       "      <th>104</th>\n",
       "      <td>minor</td>\n",
       "      <td>1825.0</td>\n",
       "      <td>3</td>\n",
       "      <td>59</td>\n",
       "    </tr>\n",
       "    <tr>\n",
       "      <th>105</th>\n",
       "      <td>minor</td>\n",
       "      <td>1825.5</td>\n",
       "      <td>1</td>\n",
       "      <td>60</td>\n",
       "    </tr>\n",
       "    <tr>\n",
       "      <th>106</th>\n",
       "      <td>minor</td>\n",
       "      <td>1826.0</td>\n",
       "      <td>1</td>\n",
       "      <td>61</td>\n",
       "    </tr>\n",
       "  </tbody>\n",
       "</table>\n",
       "</div>"
      ],
      "text/plain": [
       "      mode  avg_date  size  cumsum\n",
       "102  minor    1821.5     1      54\n",
       "103  minor    1824.0     2      56\n",
       "104  minor    1825.0     3      59\n",
       "105  minor    1825.5     1      60\n",
       "106  minor    1826.0     1      61"
      ]
     },
     "execution_count": 66,
     "metadata": {},
     "output_type": "execute_result"
    }
   ],
   "source": [
    "size_df.tail()"
   ]
  },
  {
   "cell_type": "code",
   "execution_count": 67,
   "metadata": {},
   "outputs": [
    {
     "data": {
      "text/plain": [
       "mode\n",
       "major    Axes(0.125,0.125;0.775x0.775)\n",
       "minor    Axes(0.125,0.125;0.775x0.775)\n",
       "dtype: object"
      ]
     },
     "execution_count": 67,
     "metadata": {},
     "output_type": "execute_result"
    },
    {
     "data": {
      "image/png": "[encoded data removed]",
      "text/plain": [
       "<matplotlib.figure.Figure at 0x117c4b908>"
      ]
     },
     "metadata": {},
     "output_type": "display_data"
    },
    {
     "data": {
      "image/png": "[encoded data removed]",
      "text/plain": [
       "<matplotlib.figure.Figure at 0x117c89ef0>"
      ]
     },
     "metadata": {},
     "output_type": "display_data"
    }
   ],
   "source": [
    "size_df.groupby(\"mode\").plot(x=\"avg_date\", y=\"size\")"
   ]
  },
  {
   "cell_type": "markdown",
   "metadata": {},
   "source": [
    "## Pivot table approach"
   ]
  },
  {
   "cell_type": "code",
   "execution_count": 68,
   "metadata": {},
   "outputs": [],
   "source": [
    "pivoted = pd.pivot_table(size_df, values='size', columns='mode', index='avg_date').fillna(0)"
   ]
  },
  {
   "cell_type": "markdown",
   "metadata": {},
   "source": [
    "Looks like having a low sample (missing years/years of 0) and taking midpoint years is complicated graphing..."
   ]
  },
  {
   "cell_type": "code",
   "execution_count": 69,
   "metadata": {},
   "outputs": [
    {
     "data": {
      "text/plain": [
       "<matplotlib.axes._subplots.AxesSubplot at 0x117c253c8>"
      ]
     },
     "execution_count": 69,
     "metadata": {},
     "output_type": "execute_result"
    },
    {
     "data": {
      "image/png": "[encoded data removed]",
      "text/plain": [
       "<matplotlib.figure.Figure at 0x11795f518>"
      ]
     },
     "metadata": {},
     "output_type": "display_data"
    }
   ],
   "source": [
    "pivoted.plot(figsize = (16, 8), xlim = [1770, 1827])"
   ]
  },
  {
   "cell_type": "code",
   "execution_count": 70,
   "metadata": {},
   "outputs": [
    {
     "data": {
      "text/plain": [
       "<matplotlib.axes._subplots.AxesSubplot at 0x117de35c0>"
      ]
     },
     "execution_count": 70,
     "metadata": {},
     "output_type": "execute_result"
    },
    {
     "data": {
      "image/png": "[encoded data removed]",
      "text/plain": [
       "<matplotlib.figure.Figure at 0x117df1b70>"
      ]
     },
     "metadata": {},
     "output_type": "display_data"
    }
   ],
   "source": [
    "pivoted.plot(kind = \"area\", figsize = (12, 8))"
   ]
  },
  {
   "cell_type": "code",
   "execution_count": 71,
   "metadata": {},
   "outputs": [],
   "source": [
    "pivoted_cumsum = pd.pivot_table(size_df, values='cumsum', columns='mode', index='avg_date').fillna(0)"
   ]
  },
  {
   "cell_type": "code",
   "execution_count": 72,
   "metadata": {},
   "outputs": [
    {
     "data": {
      "text/plain": [
       "<matplotlib.axes._subplots.AxesSubplot at 0x11806c2b0>"
      ]
     },
     "execution_count": 72,
     "metadata": {},
     "output_type": "execute_result"
    },
    {
     "data": {
      "image/png": "[encoded data removed]",
      "text/plain": [
       "<matplotlib.figure.Figure at 0x1180760f0>"
      ]
     },
     "metadata": {},
     "output_type": "display_data"
    }
   ],
   "source": [
    "pivoted_cumsum.plot(figsize = (16, 8), xlim = [1770, 1827])"
   ]
  },
  {
   "cell_type": "code",
   "execution_count": 73,
   "metadata": {},
   "outputs": [
    {
     "data": {
      "text/plain": [
       "<matplotlib.axes._subplots.AxesSubplot at 0x11852c240>"
      ]
     },
     "execution_count": 73,
     "metadata": {},
     "output_type": "execute_result"
    },
    {
     "data": {
      "image/png": "[encoded data removed]",
      "text/plain": [
       "<matplotlib.figure.Figure at 0x118531a20>"
      ]
     },
     "metadata": {},
     "output_type": "display_data"
    }
   ],
   "source": [
    "pivoted_cumsum.plot(kind = \"area\", figsize = (12, 8))"
   ]
  }
 ],
 "metadata": {
  "kernelspec": {
   "display_name": "Python 3",
   "language": "python",
   "name": "python3"
  },
  "language_info": {
   "codemirror_mode": {
    "name": "ipython",
    "version": 3
   },
   "file_extension": ".py",
   "mimetype": "text/x-python",
   "name": "python",
   "nbconvert_exporter": "python",
   "pygments_lexer": "ipython3",
   "version": "3.5.1"
  },
  "toc": {
   "nav_menu": {},
   "number_sections": true,
   "sideBar": true,
   "skip_h1_title": false,
   "title_cell": "Table of Contents",
   "title_sidebar": "Contents",
   "toc_cell": false,
   "toc_position": {
    "height": "calc(100% - 180px)",
    "left": "10px",
    "top": "150px",
    "width": "249px"
   },
   "toc_section_display": true,
   "toc_window_display": true
  }
 },
 "nbformat": 4,
 "nbformat_minor": 2
}
